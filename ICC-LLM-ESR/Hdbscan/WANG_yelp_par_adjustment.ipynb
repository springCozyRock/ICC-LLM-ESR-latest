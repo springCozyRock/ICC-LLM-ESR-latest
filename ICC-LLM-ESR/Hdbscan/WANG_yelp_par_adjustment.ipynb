{
 "cells": [
  {
   "cell_type": "code",
   "execution_count": null,
   "id": "62f3a15d-6f22-4c1c-9989-d46a07d543ee",
   "metadata": {},
   "outputs": [],
   "source": [
    "import pickle\n",
    "import numpy as np\n",
    "\n",
    "with open(\"../data/yelp/handled/pca64_itm_emb_np.pkl\", \"rb\") as f:\n",
    "    item_emb = pickle.load(f)\n",
    "\n",
    "X = np.asarray(item_emb)\n",
    "print(\"Yelp 数据 shape:\", X.shape)"
   ]
  },
  {
   "cell_type": "code",
   "execution_count": 2,
   "id": "5f825ba1-06a2-4ea2-b8d6-ea82982ab002",
   "metadata": {},
   "outputs": [
    {
     "name": "stdout",
     "output_type": "stream",
     "text": [
      "Looking in indexes: http://mirrors.aliyun.com/pypi/simple\n",
      "Collecting hdbscan\n",
      "  Downloading http://mirrors.aliyun.com/pypi/packages/8a/d9/11564d3ebfe7429fb2e54356b07b2e44ac3dca668c47401d98170809a2f6/hdbscan-0.8.40-cp310-cp310-manylinux_2_17_x86_64.manylinux2014_x86_64.whl (4.2 MB)\n",
      "\u001b[2K     \u001b[90m━━━━━━━━━━━━━━━━━━━━━━━━━━━━━━━━━━━━━━━━\u001b[0m \u001b[32m4.2/4.2 MB\u001b[0m \u001b[31m2.1 MB/s\u001b[0m eta \u001b[36m0:00:00\u001b[0m00:01\u001b[0m00:01\u001b[0m\n",
      "\u001b[?25hRequirement already satisfied: scikit-learn>=0.20 in /root/miniconda3/lib/python3.10/site-packages (from hdbscan) (1.7.2)\n",
      "Requirement already satisfied: joblib>=1.0 in /root/miniconda3/lib/python3.10/site-packages (from hdbscan) (1.5.2)\n",
      "Requirement already satisfied: numpy<3,>=1.20 in /root/miniconda3/lib/python3.10/site-packages (from hdbscan) (1.26.4)\n",
      "Requirement already satisfied: scipy>=1.0 in /root/miniconda3/lib/python3.10/site-packages (from hdbscan) (1.15.3)\n",
      "Requirement already satisfied: threadpoolctl>=3.1.0 in /root/miniconda3/lib/python3.10/site-packages (from scikit-learn>=0.20->hdbscan) (3.6.0)\n",
      "Installing collected packages: hdbscan\n",
      "Successfully installed hdbscan-0.8.40\n",
      "\u001b[33mWARNING: Running pip as the 'root' user can result in broken permissions and conflicting behaviour with the system package manager. It is recommended to use a virtual environment instead: https://pip.pypa.io/warnings/venv\u001b[0m\u001b[33m\n",
      "\u001b[0mNote: you may need to restart the kernel to use updated packages.\n"
     ]
    }
   ],
   "source": [
    "pip install hdbscan"
   ]
  },
  {
   "cell_type": "code",
   "execution_count": 3,
   "id": "440d7694-f7c9-42ac-8435-dd8f25972a50",
   "metadata": {},
   "outputs": [
    {
     "name": "stdout",
     "output_type": "stream",
     "text": [
      "Looking in indexes: http://mirrors.aliyun.com/pypi/simple\n",
      "Collecting umap\n",
      "  Downloading http://mirrors.aliyun.com/pypi/packages/4b/46/08ab68936625400fe690684428d4db4764f49b406782cc133df1d0299d06/umap-0.1.1.tar.gz (3.2 kB)\n",
      "  Preparing metadata (setup.py) ... \u001b[?25ldone\n",
      "\u001b[?25hBuilding wheels for collected packages: umap\n",
      "  Building wheel for umap (setup.py) ... \u001b[?25ldone\n",
      "\u001b[?25h  Created wheel for umap: filename=umap-0.1.1-py3-none-any.whl size=3542 sha256=63c2202291aab9fd6b617191e5c8c6d210a36becb9afd83849ab135996a51dfb\n",
      "  Stored in directory: /root/.cache/pip/wheels/41/3c/08/99aa427d28227bdb30d11c733a293eb811fcfee4bf112ef8b7\n",
      "Successfully built umap\n",
      "Installing collected packages: umap\n",
      "Successfully installed umap-0.1.1\n",
      "\u001b[33mWARNING: Running pip as the 'root' user can result in broken permissions and conflicting behaviour with the system package manager. It is recommended to use a virtual environment instead: https://pip.pypa.io/warnings/venv\u001b[0m\u001b[33m\n",
      "\u001b[0mNote: you may need to restart the kernel to use updated packages.\n"
     ]
    }
   ],
   "source": [
    "pip install umap"
   ]
  },
  {
   "cell_type": "code",
   "execution_count": 3,
   "id": "8719ada6-24c3-4937-b269-b310f717806e",
   "metadata": {},
   "outputs": [
    {
     "name": "stdout",
     "output_type": "stream",
     "text": [
      "Looking in indexes: http://mirrors.aliyun.com/pypi/simple\n",
      "Requirement already satisfied: umap-learn in /root/miniconda3/lib/python3.10/site-packages (0.5.9.post2)\n",
      "Requirement already satisfied: numpy>=1.23 in /root/miniconda3/lib/python3.10/site-packages (from umap-learn) (1.26.4)\n",
      "Requirement already satisfied: pynndescent>=0.5 in /root/miniconda3/lib/python3.10/site-packages (from umap-learn) (0.5.13)\n",
      "Requirement already satisfied: numba>=0.51.2 in /root/miniconda3/lib/python3.10/site-packages (from umap-learn) (0.62.0)\n",
      "Requirement already satisfied: scikit-learn>=1.6 in /root/miniconda3/lib/python3.10/site-packages (from umap-learn) (1.7.2)\n",
      "Requirement already satisfied: tqdm in /root/miniconda3/lib/python3.10/site-packages (from umap-learn) (4.64.1)\n",
      "Requirement already satisfied: scipy>=1.3.1 in /root/miniconda3/lib/python3.10/site-packages (from umap-learn) (1.15.3)\n",
      "Requirement already satisfied: llvmlite<0.46,>=0.45.0dev0 in /root/miniconda3/lib/python3.10/site-packages (from numba>=0.51.2->umap-learn) (0.45.0)\n",
      "Requirement already satisfied: joblib>=0.11 in /root/miniconda3/lib/python3.10/site-packages (from pynndescent>=0.5->umap-learn) (1.5.2)\n",
      "Requirement already satisfied: threadpoolctl>=3.1.0 in /root/miniconda3/lib/python3.10/site-packages (from scikit-learn>=1.6->umap-learn) (3.6.0)\n",
      "\u001b[33mWARNING: Running pip as the 'root' user can result in broken permissions and conflicting behaviour with the system package manager. It is recommended to use a virtual environment instead: https://pip.pypa.io/warnings/venv\u001b[0m\u001b[33m\n",
      "\u001b[0mNote: you may need to restart the kernel to use updated packages.\n"
     ]
    }
   ],
   "source": [
    "pip install umap-learn"
   ]
  },
  {
   "cell_type": "code",
   "execution_count": 1,
   "id": "33e122f1-bbfe-48d7-9860-398291cd7616",
   "metadata": {},
   "outputs": [],
   "source": [
    "import pickle\n",
    "import numpy as np\n",
    "import pandas as pd\n",
    "from sklearn.preprocessing import StandardScaler\n",
    "from sklearn.metrics import silhouette_score\n",
    "import hdbscan\n",
    "from itertools import product\n",
    "from time import time\n",
    "import umap\n",
    "import warnings\n",
    "warnings.filterwarnings(\"ignore\", category=FutureWarning)"
   ]
  },
  {
   "cell_type": "code",
   "execution_count": 2,
   "id": "c66e4ba1-84af-4440-94b6-c5f487735b6a",
   "metadata": {},
   "outputs": [
    {
     "name": "stdout",
     "output_type": "stream",
     "text": [
      "Yelp 数据形状: (11383, 64)\n"
     ]
    },
    {
     "name": "stderr",
     "output_type": "stream",
     "text": [
      "/root/miniconda3/lib/python3.10/site-packages/umap/umap_.py:1952: UserWarning: n_jobs value 1 overridden to 1 by setting random_state. Use no seed for parallelism.\n",
      "  warn(\n",
      "/root/miniconda3/lib/python3.10/site-packages/numba/np/ufunc/parallel.py:371: NumbaWarning: The TBB threading layer requires TBB version 2021 update 6 or later i.e., TBB_INTERFACE_VERSION >= 12060. Found TBB_INTERFACE_VERSION = 12050. The TBB threading layer is disabled.\n",
      "  warnings.warn(problem)\n"
     ]
    },
    {
     "name": "stdout",
     "output_type": "stream",
     "text": [
      "[1/486] UMAP(nn=10, md=0.0, nc=8) + HDBSCAN(mcs=50, ms=5, eps=0.0) => Clusters=65, Sil=0.6421, Noise=0.176\n",
      "[2/486] UMAP(nn=10, md=0.0, nc=8) + HDBSCAN(mcs=50, ms=5, eps=0.1) => Clusters=65, Sil=0.6421, Noise=0.176\n",
      "[3/486] UMAP(nn=10, md=0.0, nc=8) + HDBSCAN(mcs=50, ms=20, eps=0.0) => Clusters=59, Sil=0.6856, Noise=0.191\n",
      "[4/486] UMAP(nn=10, md=0.0, nc=8) + HDBSCAN(mcs=50, ms=20, eps=0.1) => Clusters=59, Sil=0.6856, Noise=0.191\n",
      "[5/486] UMAP(nn=10, md=0.0, nc=8) + HDBSCAN(mcs=50, ms=50, eps=0.0) => Clusters=55, Sil=0.7448, Noise=0.261\n",
      "[6/486] UMAP(nn=10, md=0.0, nc=8) + HDBSCAN(mcs=50, ms=50, eps=0.1) => Clusters=55, Sil=0.7448, Noise=0.261\n",
      "[7/486] UMAP(nn=10, md=0.0, nc=8) + HDBSCAN(mcs=100, ms=5, eps=0.0) => Clusters=32, Sil=0.6633, Noise=0.249\n",
      "[8/486] UMAP(nn=10, md=0.0, nc=8) + HDBSCAN(mcs=100, ms=5, eps=0.1) => Clusters=32, Sil=0.6633, Noise=0.249\n",
      "[9/486] UMAP(nn=10, md=0.0, nc=8) + HDBSCAN(mcs=100, ms=20, eps=0.0) => Clusters=35, Sil=0.6555, Noise=0.239\n",
      "[10/486] UMAP(nn=10, md=0.0, nc=8) + HDBSCAN(mcs=100, ms=20, eps=0.1) => Clusters=35, Sil=0.6555, Noise=0.239\n",
      "[11/486] UMAP(nn=10, md=0.0, nc=8) + HDBSCAN(mcs=100, ms=50, eps=0.0) => Clusters=32, Sil=0.7007, Noise=0.287\n",
      "[12/486] UMAP(nn=10, md=0.0, nc=8) + HDBSCAN(mcs=100, ms=50, eps=0.1) => Clusters=32, Sil=0.7007, Noise=0.287\n",
      "[13/486] UMAP(nn=10, md=0.0, nc=8) + HDBSCAN(mcs=200, ms=5, eps=0.0) => Clusters=20, Sil=0.6345, Noise=0.292\n",
      "[14/486] UMAP(nn=10, md=0.0, nc=8) + HDBSCAN(mcs=200, ms=5, eps=0.1) => Clusters=20, Sil=0.6345, Noise=0.292\n",
      "[15/486] UMAP(nn=10, md=0.0, nc=8) + HDBSCAN(mcs=200, ms=20, eps=0.0) => Clusters=16, Sil=0.5766, Noise=0.243\n",
      "[16/486] UMAP(nn=10, md=0.0, nc=8) + HDBSCAN(mcs=200, ms=20, eps=0.1) => Clusters=16, Sil=0.5766, Noise=0.243\n",
      "[17/486] UMAP(nn=10, md=0.0, nc=8) + HDBSCAN(mcs=200, ms=50, eps=0.0) => Clusters=15, Sil=0.5793, Noise=0.273\n",
      "[18/486] UMAP(nn=10, md=0.0, nc=8) + HDBSCAN(mcs=200, ms=50, eps=0.1) => Clusters=15, Sil=0.5793, Noise=0.273\n"
     ]
    },
    {
     "name": "stderr",
     "output_type": "stream",
     "text": [
      "/root/miniconda3/lib/python3.10/site-packages/umap/umap_.py:1952: UserWarning: n_jobs value 1 overridden to 1 by setting random_state. Use no seed for parallelism.\n",
      "  warn(\n"
     ]
    },
    {
     "name": "stdout",
     "output_type": "stream",
     "text": [
      "[19/486] UMAP(nn=10, md=0.0, nc=16) + HDBSCAN(mcs=50, ms=5, eps=0.0) => Clusters=67, Sil=0.6652, Noise=0.166\n",
      "[20/486] UMAP(nn=10, md=0.0, nc=16) + HDBSCAN(mcs=50, ms=5, eps=0.1) => Clusters=67, Sil=0.6652, Noise=0.166\n",
      "[21/486] UMAP(nn=10, md=0.0, nc=16) + HDBSCAN(mcs=50, ms=20, eps=0.0) => Clusters=62, Sil=0.6915, Noise=0.191\n",
      "[22/486] UMAP(nn=10, md=0.0, nc=16) + HDBSCAN(mcs=50, ms=20, eps=0.1) => Clusters=62, Sil=0.6915, Noise=0.191\n",
      "[23/486] UMAP(nn=10, md=0.0, nc=16) + HDBSCAN(mcs=50, ms=50, eps=0.0) => Clusters=55, Sil=0.7461, Noise=0.259\n",
      "[24/486] UMAP(nn=10, md=0.0, nc=16) + HDBSCAN(mcs=50, ms=50, eps=0.1) => Clusters=55, Sil=0.7461, Noise=0.259\n",
      "[25/486] UMAP(nn=10, md=0.0, nc=16) + HDBSCAN(mcs=100, ms=5, eps=0.0) => Clusters=31, Sil=0.6591, Noise=0.219\n",
      "[26/486] UMAP(nn=10, md=0.0, nc=16) + HDBSCAN(mcs=100, ms=5, eps=0.1) => Clusters=31, Sil=0.6591, Noise=0.219\n",
      "[27/486] UMAP(nn=10, md=0.0, nc=16) + HDBSCAN(mcs=100, ms=20, eps=0.0) => Clusters=30, Sil=0.6099, Noise=0.197\n",
      "[28/486] UMAP(nn=10, md=0.0, nc=16) + HDBSCAN(mcs=100, ms=20, eps=0.1) => Clusters=30, Sil=0.6099, Noise=0.197\n",
      "[29/486] UMAP(nn=10, md=0.0, nc=16) + HDBSCAN(mcs=100, ms=50, eps=0.0) => Clusters=31, Sil=0.6941, Noise=0.247\n",
      "[30/486] UMAP(nn=10, md=0.0, nc=16) + HDBSCAN(mcs=100, ms=50, eps=0.1) => Clusters=31, Sil=0.6941, Noise=0.247\n",
      "[31/486] UMAP(nn=10, md=0.0, nc=16) + HDBSCAN(mcs=200, ms=5, eps=0.0) => Clusters=20, Sil=0.6548, Noise=0.271\n",
      "[32/486] UMAP(nn=10, md=0.0, nc=16) + HDBSCAN(mcs=200, ms=5, eps=0.1) => Clusters=20, Sil=0.6548, Noise=0.271\n",
      "[33/486] UMAP(nn=10, md=0.0, nc=16) + HDBSCAN(mcs=200, ms=20, eps=0.0) => Clusters=20, Sil=0.6702, Noise=0.273\n",
      "[34/486] UMAP(nn=10, md=0.0, nc=16) + HDBSCAN(mcs=200, ms=20, eps=0.1) => Clusters=20, Sil=0.6702, Noise=0.273\n",
      "[35/486] UMAP(nn=10, md=0.0, nc=16) + HDBSCAN(mcs=200, ms=50, eps=0.0) => Clusters=20, Sil=0.6795, Noise=0.285\n",
      "[36/486] UMAP(nn=10, md=0.0, nc=16) + HDBSCAN(mcs=200, ms=50, eps=0.1) => Clusters=20, Sil=0.6795, Noise=0.285\n"
     ]
    },
    {
     "name": "stderr",
     "output_type": "stream",
     "text": [
      "/root/miniconda3/lib/python3.10/site-packages/umap/umap_.py:1952: UserWarning: n_jobs value 1 overridden to 1 by setting random_state. Use no seed for parallelism.\n",
      "  warn(\n"
     ]
    },
    {
     "name": "stdout",
     "output_type": "stream",
     "text": [
      "[37/486] UMAP(nn=10, md=0.0, nc=32) + HDBSCAN(mcs=50, ms=5, eps=0.0) => Clusters=61, Sil=0.6851, Noise=0.174\n",
      "[38/486] UMAP(nn=10, md=0.0, nc=32) + HDBSCAN(mcs=50, ms=5, eps=0.1) => Clusters=61, Sil=0.6851, Noise=0.174\n",
      "[39/486] UMAP(nn=10, md=0.0, nc=32) + HDBSCAN(mcs=50, ms=20, eps=0.0) => Clusters=58, Sil=0.6981, Noise=0.195\n",
      "[40/486] UMAP(nn=10, md=0.0, nc=32) + HDBSCAN(mcs=50, ms=20, eps=0.1) => Clusters=58, Sil=0.6981, Noise=0.195\n",
      "[41/486] UMAP(nn=10, md=0.0, nc=32) + HDBSCAN(mcs=50, ms=50, eps=0.0) => Clusters=51, Sil=0.7528, Noise=0.263\n",
      "[42/486] UMAP(nn=10, md=0.0, nc=32) + HDBSCAN(mcs=50, ms=50, eps=0.1) => Clusters=51, Sil=0.7528, Noise=0.263\n",
      "[43/486] UMAP(nn=10, md=0.0, nc=32) + HDBSCAN(mcs=100, ms=5, eps=0.0) => Clusters=35, Sil=0.6703, Noise=0.225\n",
      "[44/486] UMAP(nn=10, md=0.0, nc=32) + HDBSCAN(mcs=100, ms=5, eps=0.1) => Clusters=35, Sil=0.6703, Noise=0.225\n",
      "[45/486] UMAP(nn=10, md=0.0, nc=32) + HDBSCAN(mcs=100, ms=20, eps=0.0) => Clusters=35, Sil=0.6800, Noise=0.238\n",
      "[46/486] UMAP(nn=10, md=0.0, nc=32) + HDBSCAN(mcs=100, ms=20, eps=0.1) => Clusters=35, Sil=0.6800, Noise=0.238\n",
      "[47/486] UMAP(nn=10, md=0.0, nc=32) + HDBSCAN(mcs=100, ms=50, eps=0.0) => Clusters=29, Sil=0.6905, Noise=0.264\n",
      "[48/486] UMAP(nn=10, md=0.0, nc=32) + HDBSCAN(mcs=100, ms=50, eps=0.1) => Clusters=29, Sil=0.6905, Noise=0.264\n",
      "[49/486] UMAP(nn=10, md=0.0, nc=32) + HDBSCAN(mcs=200, ms=5, eps=0.0) => Clusters=19, Sil=0.6707, Noise=0.275\n",
      "[50/486] UMAP(nn=10, md=0.0, nc=32) + HDBSCAN(mcs=200, ms=5, eps=0.1) => Clusters=19, Sil=0.6707, Noise=0.275\n",
      "[51/486] UMAP(nn=10, md=0.0, nc=32) + HDBSCAN(mcs=200, ms=20, eps=0.0) => Clusters=20, Sil=0.6640, Noise=0.275\n",
      "[52/486] UMAP(nn=10, md=0.0, nc=32) + HDBSCAN(mcs=200, ms=20, eps=0.1) => Clusters=20, Sil=0.6640, Noise=0.275\n",
      "[53/486] UMAP(nn=10, md=0.0, nc=32) + HDBSCAN(mcs=200, ms=50, eps=0.0) => Clusters=16, Sil=0.6146, Noise=0.244\n",
      "[54/486] UMAP(nn=10, md=0.0, nc=32) + HDBSCAN(mcs=200, ms=50, eps=0.1) => Clusters=16, Sil=0.6146, Noise=0.244\n"
     ]
    },
    {
     "name": "stderr",
     "output_type": "stream",
     "text": [
      "/root/miniconda3/lib/python3.10/site-packages/umap/umap_.py:1952: UserWarning: n_jobs value 1 overridden to 1 by setting random_state. Use no seed for parallelism.\n",
      "  warn(\n"
     ]
    },
    {
     "name": "stdout",
     "output_type": "stream",
     "text": [
      "[55/486] UMAP(nn=10, md=0.1, nc=8) + HDBSCAN(mcs=50, ms=5, eps=0.0) => Clusters=61, Sil=0.6381, Noise=0.187\n",
      "[56/486] UMAP(nn=10, md=0.1, nc=8) + HDBSCAN(mcs=50, ms=5, eps=0.1) => Clusters=61, Sil=0.6381, Noise=0.187\n",
      "[57/486] UMAP(nn=10, md=0.1, nc=8) + HDBSCAN(mcs=50, ms=20, eps=0.0) => Clusters=57, Sil=0.6613, Noise=0.209\n",
      "[58/486] UMAP(nn=10, md=0.1, nc=8) + HDBSCAN(mcs=50, ms=20, eps=0.1) => Clusters=57, Sil=0.6613, Noise=0.209\n",
      "[59/486] UMAP(nn=10, md=0.1, nc=8) + HDBSCAN(mcs=50, ms=50, eps=0.0) => Clusters=52, Sil=0.7200, Noise=0.286\n",
      "[60/486] UMAP(nn=10, md=0.1, nc=8) + HDBSCAN(mcs=50, ms=50, eps=0.1) => Clusters=52, Sil=0.7200, Noise=0.286\n",
      "[61/486] UMAP(nn=10, md=0.1, nc=8) + HDBSCAN(mcs=100, ms=5, eps=0.0) => Clusters=33, Sil=0.6168, Noise=0.222\n",
      "[62/486] UMAP(nn=10, md=0.1, nc=8) + HDBSCAN(mcs=100, ms=5, eps=0.1) => Clusters=33, Sil=0.6168, Noise=0.222\n",
      "[63/486] UMAP(nn=10, md=0.1, nc=8) + HDBSCAN(mcs=100, ms=20, eps=0.0) => Clusters=31, Sil=0.6269, Noise=0.237\n",
      "[64/486] UMAP(nn=10, md=0.1, nc=8) + HDBSCAN(mcs=100, ms=20, eps=0.1) => Clusters=31, Sil=0.6269, Noise=0.237\n",
      "[65/486] UMAP(nn=10, md=0.1, nc=8) + HDBSCAN(mcs=100, ms=50, eps=0.0) => Clusters=26, Sil=0.6512, Noise=0.279\n",
      "[66/486] UMAP(nn=10, md=0.1, nc=8) + HDBSCAN(mcs=100, ms=50, eps=0.1) => Clusters=26, Sil=0.6512, Noise=0.279\n",
      "[67/486] UMAP(nn=10, md=0.1, nc=8) + HDBSCAN(mcs=200, ms=5, eps=0.0) => Clusters=20, Sil=0.5939, Noise=0.298\n",
      "[68/486] UMAP(nn=10, md=0.1, nc=8) + HDBSCAN(mcs=200, ms=5, eps=0.1) => Clusters=20, Sil=0.5939, Noise=0.298\n",
      "[69/486] UMAP(nn=10, md=0.1, nc=8) + HDBSCAN(mcs=200, ms=20, eps=0.0) => Clusters=20, Sil=0.6165, Noise=0.309\n",
      "[70/486] UMAP(nn=10, md=0.1, nc=8) + HDBSCAN(mcs=200, ms=20, eps=0.1) => Clusters=20, Sil=0.6165, Noise=0.309\n",
      "[71/486] UMAP(nn=10, md=0.1, nc=8) + HDBSCAN(mcs=200, ms=50, eps=0.0) => Clusters=8, Sil=0.3188, Noise=0.116\n",
      "[72/486] UMAP(nn=10, md=0.1, nc=8) + HDBSCAN(mcs=200, ms=50, eps=0.1) => Clusters=8, Sil=0.3188, Noise=0.116\n"
     ]
    },
    {
     "name": "stderr",
     "output_type": "stream",
     "text": [
      "/root/miniconda3/lib/python3.10/site-packages/umap/umap_.py:1952: UserWarning: n_jobs value 1 overridden to 1 by setting random_state. Use no seed for parallelism.\n",
      "  warn(\n"
     ]
    },
    {
     "name": "stdout",
     "output_type": "stream",
     "text": [
      "[73/486] UMAP(nn=10, md=0.1, nc=16) + HDBSCAN(mcs=50, ms=5, eps=0.0) => Clusters=65, Sil=0.6342, Noise=0.209\n",
      "[74/486] UMAP(nn=10, md=0.1, nc=16) + HDBSCAN(mcs=50, ms=5, eps=0.1) => Clusters=65, Sil=0.6342, Noise=0.209\n",
      "[75/486] UMAP(nn=10, md=0.1, nc=16) + HDBSCAN(mcs=50, ms=20, eps=0.0) => Clusters=60, Sil=0.6711, Noise=0.215\n",
      "[76/486] UMAP(nn=10, md=0.1, nc=16) + HDBSCAN(mcs=50, ms=20, eps=0.1) => Clusters=60, Sil=0.6711, Noise=0.215\n",
      "[77/486] UMAP(nn=10, md=0.1, nc=16) + HDBSCAN(mcs=50, ms=50, eps=0.0) => Clusters=46, Sil=0.6796, Noise=0.265\n",
      "[78/486] UMAP(nn=10, md=0.1, nc=16) + HDBSCAN(mcs=50, ms=50, eps=0.1) => Clusters=46, Sil=0.6796, Noise=0.265\n",
      "[79/486] UMAP(nn=10, md=0.1, nc=16) + HDBSCAN(mcs=100, ms=5, eps=0.0) => Clusters=33, Sil=0.6131, Noise=0.230\n",
      "[80/486] UMAP(nn=10, md=0.1, nc=16) + HDBSCAN(mcs=100, ms=5, eps=0.1) => Clusters=33, Sil=0.6131, Noise=0.230\n",
      "[81/486] UMAP(nn=10, md=0.1, nc=16) + HDBSCAN(mcs=100, ms=20, eps=0.0) => Clusters=32, Sil=0.6351, Noise=0.227\n",
      "[82/486] UMAP(nn=10, md=0.1, nc=16) + HDBSCAN(mcs=100, ms=20, eps=0.1) => Clusters=32, Sil=0.6351, Noise=0.227\n",
      "[83/486] UMAP(nn=10, md=0.1, nc=16) + HDBSCAN(mcs=100, ms=50, eps=0.0) => Clusters=28, Sil=0.6595, Noise=0.298\n",
      "[84/486] UMAP(nn=10, md=0.1, nc=16) + HDBSCAN(mcs=100, ms=50, eps=0.1) => Clusters=28, Sil=0.6595, Noise=0.298\n",
      "[85/486] UMAP(nn=10, md=0.1, nc=16) + HDBSCAN(mcs=200, ms=5, eps=0.0) => Clusters=20, Sil=0.6254, Noise=0.306\n",
      "[86/486] UMAP(nn=10, md=0.1, nc=16) + HDBSCAN(mcs=200, ms=5, eps=0.1) => Clusters=20, Sil=0.6254, Noise=0.306\n",
      "[87/486] UMAP(nn=10, md=0.1, nc=16) + HDBSCAN(mcs=200, ms=20, eps=0.0) => Clusters=19, Sil=0.6167, Noise=0.315\n",
      "[88/486] UMAP(nn=10, md=0.1, nc=16) + HDBSCAN(mcs=200, ms=20, eps=0.1) => Clusters=19, Sil=0.6167, Noise=0.315\n",
      "[89/486] UMAP(nn=10, md=0.1, nc=16) + HDBSCAN(mcs=200, ms=50, eps=0.0) => Clusters=9, Sil=0.3287, Noise=0.109\n",
      "[90/486] UMAP(nn=10, md=0.1, nc=16) + HDBSCAN(mcs=200, ms=50, eps=0.1) => Clusters=9, Sil=0.3287, Noise=0.109\n"
     ]
    },
    {
     "name": "stderr",
     "output_type": "stream",
     "text": [
      "/root/miniconda3/lib/python3.10/site-packages/umap/umap_.py:1952: UserWarning: n_jobs value 1 overridden to 1 by setting random_state. Use no seed for parallelism.\n",
      "  warn(\n"
     ]
    },
    {
     "name": "stdout",
     "output_type": "stream",
     "text": [
      "[91/486] UMAP(nn=10, md=0.1, nc=32) + HDBSCAN(mcs=50, ms=5, eps=0.0) => Clusters=57, Sil=0.6530, Noise=0.209\n",
      "[92/486] UMAP(nn=10, md=0.1, nc=32) + HDBSCAN(mcs=50, ms=5, eps=0.1) => Clusters=57, Sil=0.6530, Noise=0.209\n",
      "[93/486] UMAP(nn=10, md=0.1, nc=32) + HDBSCAN(mcs=50, ms=20, eps=0.0) => Clusters=57, Sil=0.6741, Noise=0.226\n",
      "[94/486] UMAP(nn=10, md=0.1, nc=32) + HDBSCAN(mcs=50, ms=20, eps=0.1) => Clusters=57, Sil=0.6741, Noise=0.226\n",
      "[95/486] UMAP(nn=10, md=0.1, nc=32) + HDBSCAN(mcs=50, ms=50, eps=0.0) => Clusters=49, Sil=0.7117, Noise=0.278\n",
      "[96/486] UMAP(nn=10, md=0.1, nc=32) + HDBSCAN(mcs=50, ms=50, eps=0.1) => Clusters=49, Sil=0.7117, Noise=0.278\n",
      "[97/486] UMAP(nn=10, md=0.1, nc=32) + HDBSCAN(mcs=100, ms=5, eps=0.0) => Clusters=30, Sil=0.6204, Noise=0.218\n",
      "[98/486] UMAP(nn=10, md=0.1, nc=32) + HDBSCAN(mcs=100, ms=5, eps=0.1) => Clusters=30, Sil=0.6204, Noise=0.218\n",
      "[99/486] UMAP(nn=10, md=0.1, nc=32) + HDBSCAN(mcs=100, ms=20, eps=0.0) => Clusters=32, Sil=0.6415, Noise=0.267\n",
      "[100/486] UMAP(nn=10, md=0.1, nc=32) + HDBSCAN(mcs=100, ms=20, eps=0.1) => Clusters=32, Sil=0.6415, Noise=0.267\n",
      "[101/486] UMAP(nn=10, md=0.1, nc=32) + HDBSCAN(mcs=100, ms=50, eps=0.0) => Clusters=26, Sil=0.6697, Noise=0.297\n",
      "[102/486] UMAP(nn=10, md=0.1, nc=32) + HDBSCAN(mcs=100, ms=50, eps=0.1) => Clusters=26, Sil=0.6697, Noise=0.297\n",
      "[103/486] UMAP(nn=10, md=0.1, nc=32) + HDBSCAN(mcs=200, ms=5, eps=0.0) => Clusters=21, Sil=0.6205, Noise=0.305\n",
      "[104/486] UMAP(nn=10, md=0.1, nc=32) + HDBSCAN(mcs=200, ms=5, eps=0.1) => Clusters=21, Sil=0.6205, Noise=0.305\n",
      "[105/486] UMAP(nn=10, md=0.1, nc=32) + HDBSCAN(mcs=200, ms=20, eps=0.0) => Clusters=8, Sil=0.3483, Noise=0.096\n",
      "[106/486] UMAP(nn=10, md=0.1, nc=32) + HDBSCAN(mcs=200, ms=20, eps=0.1) => Clusters=8, Sil=0.3483, Noise=0.096\n",
      "[107/486] UMAP(nn=10, md=0.1, nc=32) + HDBSCAN(mcs=200, ms=50, eps=0.0) => Clusters=8, Sil=0.3460, Noise=0.092\n",
      "[108/486] UMAP(nn=10, md=0.1, nc=32) + HDBSCAN(mcs=200, ms=50, eps=0.1) => Clusters=8, Sil=0.3460, Noise=0.092\n"
     ]
    },
    {
     "name": "stderr",
     "output_type": "stream",
     "text": [
      "/root/miniconda3/lib/python3.10/site-packages/umap/umap_.py:1952: UserWarning: n_jobs value 1 overridden to 1 by setting random_state. Use no seed for parallelism.\n",
      "  warn(\n"
     ]
    },
    {
     "name": "stdout",
     "output_type": "stream",
     "text": [
      "[109/486] UMAP(nn=10, md=0.5, nc=8) + HDBSCAN(mcs=50, ms=5, eps=0.0) => Clusters=56, Sil=0.4818, Noise=0.332\n",
      "[110/486] UMAP(nn=10, md=0.5, nc=8) + HDBSCAN(mcs=50, ms=5, eps=0.1) => Clusters=56, Sil=0.4818, Noise=0.332\n",
      "[111/486] UMAP(nn=10, md=0.5, nc=8) + HDBSCAN(mcs=50, ms=20, eps=0.0) => Clusters=50, Sil=0.5437, Noise=0.372\n",
      "[112/486] UMAP(nn=10, md=0.5, nc=8) + HDBSCAN(mcs=50, ms=20, eps=0.1) => Clusters=50, Sil=0.5437, Noise=0.372\n",
      "[113/486] UMAP(nn=10, md=0.5, nc=8) + HDBSCAN(mcs=50, ms=50, eps=0.0) => Clusters=32, Sil=0.6087, Noise=0.479\n",
      "[114/486] UMAP(nn=10, md=0.5, nc=8) + HDBSCAN(mcs=50, ms=50, eps=0.1) => Clusters=32, Sil=0.6087, Noise=0.479\n",
      "[115/486] UMAP(nn=10, md=0.5, nc=8) + HDBSCAN(mcs=100, ms=5, eps=0.0) => Clusters=2, Sil=0.3890, Noise=0.010\n",
      "[116/486] UMAP(nn=10, md=0.5, nc=8) + HDBSCAN(mcs=100, ms=5, eps=0.1) => Clusters=2, Sil=0.3890, Noise=0.010\n",
      "[117/486] UMAP(nn=10, md=0.5, nc=8) + HDBSCAN(mcs=100, ms=20, eps=0.0) => Clusters=3, Sil=0.3078, Noise=0.029\n",
      "[118/486] UMAP(nn=10, md=0.5, nc=8) + HDBSCAN(mcs=100, ms=20, eps=0.1) => Clusters=3, Sil=0.3078, Noise=0.029\n",
      "[119/486] UMAP(nn=10, md=0.5, nc=8) + HDBSCAN(mcs=100, ms=50, eps=0.0) => Clusters=2, Sil=0.3890, Noise=0.010\n",
      "[120/486] UMAP(nn=10, md=0.5, nc=8) + HDBSCAN(mcs=100, ms=50, eps=0.1) => Clusters=2, Sil=0.3890, Noise=0.010\n",
      "[121/486] UMAP(nn=10, md=0.5, nc=8) + HDBSCAN(mcs=200, ms=5, eps=0.0) => Clusters=7, Sil=0.1948, Noise=0.159\n",
      "[122/486] UMAP(nn=10, md=0.5, nc=8) + HDBSCAN(mcs=200, ms=5, eps=0.1) => Clusters=7, Sil=0.1948, Noise=0.159\n",
      "[123/486] UMAP(nn=10, md=0.5, nc=8) + HDBSCAN(mcs=200, ms=20, eps=0.0) => Clusters=7, Sil=0.2151, Noise=0.206\n",
      "[124/486] UMAP(nn=10, md=0.5, nc=8) + HDBSCAN(mcs=200, ms=20, eps=0.1) => Clusters=7, Sil=0.2151, Noise=0.206\n",
      "[125/486] UMAP(nn=10, md=0.5, nc=8) + HDBSCAN(mcs=200, ms=50, eps=0.0) => Clusters=4, Sil=0.2412, Noise=0.208\n",
      "[126/486] UMAP(nn=10, md=0.5, nc=8) + HDBSCAN(mcs=200, ms=50, eps=0.1) => Clusters=4, Sil=0.2412, Noise=0.208\n"
     ]
    },
    {
     "name": "stderr",
     "output_type": "stream",
     "text": [
      "/root/miniconda3/lib/python3.10/site-packages/umap/umap_.py:1952: UserWarning: n_jobs value 1 overridden to 1 by setting random_state. Use no seed for parallelism.\n",
      "  warn(\n"
     ]
    },
    {
     "name": "stdout",
     "output_type": "stream",
     "text": [
      "[127/486] UMAP(nn=10, md=0.5, nc=16) + HDBSCAN(mcs=50, ms=5, eps=0.0) => Clusters=51, Sil=0.4655, Noise=0.286\n",
      "[128/486] UMAP(nn=10, md=0.5, nc=16) + HDBSCAN(mcs=50, ms=5, eps=0.1) => Clusters=51, Sil=0.4655, Noise=0.286\n",
      "[129/486] UMAP(nn=10, md=0.5, nc=16) + HDBSCAN(mcs=50, ms=20, eps=0.0) => Clusters=48, Sil=0.5150, Noise=0.338\n",
      "[130/486] UMAP(nn=10, md=0.5, nc=16) + HDBSCAN(mcs=50, ms=20, eps=0.1) => Clusters=48, Sil=0.5150, Noise=0.338\n",
      "[131/486] UMAP(nn=10, md=0.5, nc=16) + HDBSCAN(mcs=50, ms=50, eps=0.0) => Clusters=31, Sil=0.5628, Noise=0.444\n",
      "[132/486] UMAP(nn=10, md=0.5, nc=16) + HDBSCAN(mcs=50, ms=50, eps=0.1) => Clusters=31, Sil=0.5628, Noise=0.444\n",
      "[133/486] UMAP(nn=10, md=0.5, nc=16) + HDBSCAN(mcs=100, ms=5, eps=0.0) => Clusters=5, Sil=0.2223, Noise=0.049\n",
      "[134/486] UMAP(nn=10, md=0.5, nc=16) + HDBSCAN(mcs=100, ms=5, eps=0.1) => Clusters=5, Sil=0.2223, Noise=0.049\n",
      "[135/486] UMAP(nn=10, md=0.5, nc=16) + HDBSCAN(mcs=100, ms=20, eps=0.0) => Clusters=19, Sil=0.3405, Noise=0.298\n",
      "[136/486] UMAP(nn=10, md=0.5, nc=16) + HDBSCAN(mcs=100, ms=20, eps=0.1) => Clusters=19, Sil=0.3405, Noise=0.298\n",
      "[137/486] UMAP(nn=10, md=0.5, nc=16) + HDBSCAN(mcs=100, ms=50, eps=0.0) => Clusters=4, Sil=0.2434, Noise=0.066\n",
      "[138/486] UMAP(nn=10, md=0.5, nc=16) + HDBSCAN(mcs=100, ms=50, eps=0.1) => Clusters=4, Sil=0.2434, Noise=0.066\n",
      "[139/486] UMAP(nn=10, md=0.5, nc=16) + HDBSCAN(mcs=200, ms=5, eps=0.0) => Clusters=3, Sil=0.2442, Noise=0.071\n",
      "[140/486] UMAP(nn=10, md=0.5, nc=16) + HDBSCAN(mcs=200, ms=5, eps=0.1) => Clusters=3, Sil=0.2442, Noise=0.071\n",
      "[141/486] UMAP(nn=10, md=0.5, nc=16) + HDBSCAN(mcs=200, ms=20, eps=0.0) => Clusters=3, Sil=0.2469, Noise=0.079\n",
      "[142/486] UMAP(nn=10, md=0.5, nc=16) + HDBSCAN(mcs=200, ms=20, eps=0.1) => Clusters=3, Sil=0.2469, Noise=0.079\n",
      "[143/486] UMAP(nn=10, md=0.5, nc=16) + HDBSCAN(mcs=200, ms=50, eps=0.0) => Clusters=3, Sil=0.2446, Noise=0.077\n",
      "[144/486] UMAP(nn=10, md=0.5, nc=16) + HDBSCAN(mcs=200, ms=50, eps=0.1) => Clusters=3, Sil=0.2446, Noise=0.077\n"
     ]
    },
    {
     "name": "stderr",
     "output_type": "stream",
     "text": [
      "/root/miniconda3/lib/python3.10/site-packages/umap/umap_.py:1952: UserWarning: n_jobs value 1 overridden to 1 by setting random_state. Use no seed for parallelism.\n",
      "  warn(\n"
     ]
    },
    {
     "name": "stdout",
     "output_type": "stream",
     "text": [
      "[145/486] UMAP(nn=10, md=0.5, nc=32) + HDBSCAN(mcs=50, ms=5, eps=0.0) => Clusters=51, Sil=0.4615, Noise=0.312\n",
      "[146/486] UMAP(nn=10, md=0.5, nc=32) + HDBSCAN(mcs=50, ms=5, eps=0.1) => Clusters=51, Sil=0.4615, Noise=0.312\n",
      "[147/486] UMAP(nn=10, md=0.5, nc=32) + HDBSCAN(mcs=50, ms=20, eps=0.0) => Clusters=48, Sil=0.5315, Noise=0.369\n",
      "[148/486] UMAP(nn=10, md=0.5, nc=32) + HDBSCAN(mcs=50, ms=20, eps=0.1) => Clusters=48, Sil=0.5315, Noise=0.369\n",
      "[149/486] UMAP(nn=10, md=0.5, nc=32) + HDBSCAN(mcs=50, ms=50, eps=0.0) => Clusters=33, Sil=0.5786, Noise=0.459\n",
      "[150/486] UMAP(nn=10, md=0.5, nc=32) + HDBSCAN(mcs=50, ms=50, eps=0.1) => Clusters=33, Sil=0.5786, Noise=0.459\n",
      "[151/486] UMAP(nn=10, md=0.5, nc=32) + HDBSCAN(mcs=100, ms=5, eps=0.0) => Clusters=27, Sil=0.4721, Noise=0.382\n",
      "[152/486] UMAP(nn=10, md=0.5, nc=32) + HDBSCAN(mcs=100, ms=5, eps=0.1) => Clusters=27, Sil=0.4721, Noise=0.382\n",
      "[153/486] UMAP(nn=10, md=0.5, nc=32) + HDBSCAN(mcs=100, ms=20, eps=0.0) => Clusters=2, Sil=0.3883, Noise=0.011\n",
      "[154/486] UMAP(nn=10, md=0.5, nc=32) + HDBSCAN(mcs=100, ms=20, eps=0.1) => Clusters=2, Sil=0.3883, Noise=0.011\n",
      "[155/486] UMAP(nn=10, md=0.5, nc=32) + HDBSCAN(mcs=100, ms=50, eps=0.0) => Clusters=2, Sil=0.3883, Noise=0.011\n",
      "[156/486] UMAP(nn=10, md=0.5, nc=32) + HDBSCAN(mcs=100, ms=50, eps=0.1) => Clusters=2, Sil=0.3883, Noise=0.011\n",
      "[157/486] UMAP(nn=10, md=0.5, nc=32) + HDBSCAN(mcs=200, ms=5, eps=0.0) => Clusters=8, Sil=0.1844, Noise=0.163\n",
      "[158/486] UMAP(nn=10, md=0.5, nc=32) + HDBSCAN(mcs=200, ms=5, eps=0.1) => Clusters=8, Sil=0.1844, Noise=0.163\n",
      "[159/486] UMAP(nn=10, md=0.5, nc=32) + HDBSCAN(mcs=200, ms=20, eps=0.0) => Clusters=7, Sil=0.2287, Noise=0.230\n",
      "[160/486] UMAP(nn=10, md=0.5, nc=32) + HDBSCAN(mcs=200, ms=20, eps=0.1) => Clusters=7, Sil=0.2287, Noise=0.230\n",
      "[161/486] UMAP(nn=10, md=0.5, nc=32) + HDBSCAN(mcs=200, ms=50, eps=0.0) => Clusters=5, Sil=0.3532, Noise=0.260\n",
      "[162/486] UMAP(nn=10, md=0.5, nc=32) + HDBSCAN(mcs=200, ms=50, eps=0.1) => Clusters=5, Sil=0.3532, Noise=0.260\n"
     ]
    },
    {
     "name": "stderr",
     "output_type": "stream",
     "text": [
      "/root/miniconda3/lib/python3.10/site-packages/umap/umap_.py:1952: UserWarning: n_jobs value 1 overridden to 1 by setting random_state. Use no seed for parallelism.\n",
      "  warn(\n"
     ]
    },
    {
     "name": "stdout",
     "output_type": "stream",
     "text": [
      "[163/486] UMAP(nn=30, md=0.0, nc=8) + HDBSCAN(mcs=50, ms=5, eps=0.0) => Clusters=62, Sil=0.6822, Noise=0.165\n",
      "[164/486] UMAP(nn=30, md=0.0, nc=8) + HDBSCAN(mcs=50, ms=5, eps=0.1) => Clusters=61, Sil=0.6881, Noise=0.164\n",
      "[165/486] UMAP(nn=30, md=0.0, nc=8) + HDBSCAN(mcs=50, ms=20, eps=0.0) => Clusters=64, Sil=0.7095, Noise=0.203\n",
      "[166/486] UMAP(nn=30, md=0.0, nc=8) + HDBSCAN(mcs=50, ms=20, eps=0.1) => Clusters=64, Sil=0.7095, Noise=0.203\n",
      "[167/486] UMAP(nn=30, md=0.0, nc=8) + HDBSCAN(mcs=50, ms=50, eps=0.0) => Clusters=56, Sil=0.7588, Noise=0.225\n",
      "[168/486] UMAP(nn=30, md=0.0, nc=8) + HDBSCAN(mcs=50, ms=50, eps=0.1) => Clusters=56, Sil=0.7588, Noise=0.225\n",
      "[169/486] UMAP(nn=30, md=0.0, nc=8) + HDBSCAN(mcs=100, ms=5, eps=0.0) => Clusters=35, Sil=0.6823, Noise=0.198\n",
      "[170/486] UMAP(nn=30, md=0.0, nc=8) + HDBSCAN(mcs=100, ms=5, eps=0.1) => Clusters=35, Sil=0.6823, Noise=0.198\n",
      "[171/486] UMAP(nn=30, md=0.0, nc=8) + HDBSCAN(mcs=100, ms=20, eps=0.0) => Clusters=35, Sil=0.7055, Noise=0.220\n",
      "[172/486] UMAP(nn=30, md=0.0, nc=8) + HDBSCAN(mcs=100, ms=20, eps=0.1) => Clusters=35, Sil=0.7055, Noise=0.220\n",
      "[173/486] UMAP(nn=30, md=0.0, nc=8) + HDBSCAN(mcs=100, ms=50, eps=0.0) => Clusters=33, Sil=0.7216, Noise=0.252\n",
      "[174/486] UMAP(nn=30, md=0.0, nc=8) + HDBSCAN(mcs=100, ms=50, eps=0.1) => Clusters=33, Sil=0.7216, Noise=0.252\n",
      "[175/486] UMAP(nn=30, md=0.0, nc=8) + HDBSCAN(mcs=200, ms=5, eps=0.0) => Clusters=19, Sil=0.6768, Noise=0.265\n",
      "[176/486] UMAP(nn=30, md=0.0, nc=8) + HDBSCAN(mcs=200, ms=5, eps=0.1) => Clusters=19, Sil=0.6768, Noise=0.265\n",
      "[177/486] UMAP(nn=30, md=0.0, nc=8) + HDBSCAN(mcs=200, ms=20, eps=0.0) => Clusters=18, Sil=0.6231, Noise=0.236\n",
      "[178/486] UMAP(nn=30, md=0.0, nc=8) + HDBSCAN(mcs=200, ms=20, eps=0.1) => Clusters=18, Sil=0.6231, Noise=0.236\n",
      "[179/486] UMAP(nn=30, md=0.0, nc=8) + HDBSCAN(mcs=200, ms=50, eps=0.0) => Clusters=18, Sil=0.6504, Noise=0.258\n",
      "[180/486] UMAP(nn=30, md=0.0, nc=8) + HDBSCAN(mcs=200, ms=50, eps=0.1) => Clusters=18, Sil=0.6504, Noise=0.258\n"
     ]
    },
    {
     "name": "stderr",
     "output_type": "stream",
     "text": [
      "/root/miniconda3/lib/python3.10/site-packages/umap/umap_.py:1952: UserWarning: n_jobs value 1 overridden to 1 by setting random_state. Use no seed for parallelism.\n",
      "  warn(\n"
     ]
    },
    {
     "name": "stdout",
     "output_type": "stream",
     "text": [
      "[181/486] UMAP(nn=30, md=0.0, nc=16) + HDBSCAN(mcs=50, ms=5, eps=0.0) => Clusters=67, Sil=0.6782, Noise=0.179\n",
      "[182/486] UMAP(nn=30, md=0.0, nc=16) + HDBSCAN(mcs=50, ms=5, eps=0.1) => Clusters=67, Sil=0.6782, Noise=0.179\n",
      "[183/486] UMAP(nn=30, md=0.0, nc=16) + HDBSCAN(mcs=50, ms=20, eps=0.0) => Clusters=64, Sil=0.6976, Noise=0.166\n",
      "[184/486] UMAP(nn=30, md=0.0, nc=16) + HDBSCAN(mcs=50, ms=20, eps=0.1) => Clusters=64, Sil=0.6976, Noise=0.166\n",
      "[185/486] UMAP(nn=30, md=0.0, nc=16) + HDBSCAN(mcs=50, ms=50, eps=0.0) => Clusters=56, Sil=0.7551, Noise=0.230\n",
      "[186/486] UMAP(nn=30, md=0.0, nc=16) + HDBSCAN(mcs=50, ms=50, eps=0.1) => Clusters=56, Sil=0.7551, Noise=0.230\n",
      "[187/486] UMAP(nn=30, md=0.0, nc=16) + HDBSCAN(mcs=100, ms=5, eps=0.0) => Clusters=35, Sil=0.6618, Noise=0.192\n",
      "[188/486] UMAP(nn=30, md=0.0, nc=16) + HDBSCAN(mcs=100, ms=5, eps=0.1) => Clusters=35, Sil=0.6618, Noise=0.192\n",
      "[189/486] UMAP(nn=30, md=0.0, nc=16) + HDBSCAN(mcs=100, ms=20, eps=0.0) => Clusters=35, Sil=0.7018, Noise=0.221\n",
      "[190/486] UMAP(nn=30, md=0.0, nc=16) + HDBSCAN(mcs=100, ms=20, eps=0.1) => Clusters=35, Sil=0.7018, Noise=0.221\n",
      "[191/486] UMAP(nn=30, md=0.0, nc=16) + HDBSCAN(mcs=100, ms=50, eps=0.0) => Clusters=32, Sil=0.7118, Noise=0.237\n",
      "[192/486] UMAP(nn=30, md=0.0, nc=16) + HDBSCAN(mcs=100, ms=50, eps=0.1) => Clusters=32, Sil=0.7118, Noise=0.237\n",
      "[193/486] UMAP(nn=30, md=0.0, nc=16) + HDBSCAN(mcs=200, ms=5, eps=0.0) => Clusters=19, Sil=0.6689, Noise=0.268\n",
      "[194/486] UMAP(nn=30, md=0.0, nc=16) + HDBSCAN(mcs=200, ms=5, eps=0.1) => Clusters=19, Sil=0.6689, Noise=0.268\n",
      "[195/486] UMAP(nn=30, md=0.0, nc=16) + HDBSCAN(mcs=200, ms=20, eps=0.0) => Clusters=18, Sil=0.6370, Noise=0.236\n",
      "[196/486] UMAP(nn=30, md=0.0, nc=16) + HDBSCAN(mcs=200, ms=20, eps=0.1) => Clusters=18, Sil=0.6370, Noise=0.236\n",
      "[197/486] UMAP(nn=30, md=0.0, nc=16) + HDBSCAN(mcs=200, ms=50, eps=0.0) => Clusters=15, Sil=0.5364, Noise=0.164\n",
      "[198/486] UMAP(nn=30, md=0.0, nc=16) + HDBSCAN(mcs=200, ms=50, eps=0.1) => Clusters=15, Sil=0.5364, Noise=0.164\n"
     ]
    },
    {
     "name": "stderr",
     "output_type": "stream",
     "text": [
      "/root/miniconda3/lib/python3.10/site-packages/umap/umap_.py:1952: UserWarning: n_jobs value 1 overridden to 1 by setting random_state. Use no seed for parallelism.\n",
      "  warn(\n"
     ]
    },
    {
     "name": "stdout",
     "output_type": "stream",
     "text": [
      "[199/486] UMAP(nn=30, md=0.0, nc=32) + HDBSCAN(mcs=50, ms=5, eps=0.0) => Clusters=64, Sil=0.6721, Noise=0.159\n",
      "[200/486] UMAP(nn=30, md=0.0, nc=32) + HDBSCAN(mcs=50, ms=5, eps=0.1) => Clusters=64, Sil=0.6721, Noise=0.159\n",
      "[201/486] UMAP(nn=30, md=0.0, nc=32) + HDBSCAN(mcs=50, ms=20, eps=0.0) => Clusters=62, Sil=0.7030, Noise=0.163\n",
      "[202/486] UMAP(nn=30, md=0.0, nc=32) + HDBSCAN(mcs=50, ms=20, eps=0.1) => Clusters=62, Sil=0.7030, Noise=0.163\n",
      "[203/486] UMAP(nn=30, md=0.0, nc=32) + HDBSCAN(mcs=50, ms=50, eps=0.0) => Clusters=53, Sil=0.7447, Noise=0.217\n",
      "[204/486] UMAP(nn=30, md=0.0, nc=32) + HDBSCAN(mcs=50, ms=50, eps=0.1) => Clusters=53, Sil=0.7447, Noise=0.217\n",
      "[205/486] UMAP(nn=30, md=0.0, nc=32) + HDBSCAN(mcs=100, ms=5, eps=0.0) => Clusters=35, Sil=0.6604, Noise=0.193\n",
      "[206/486] UMAP(nn=30, md=0.0, nc=32) + HDBSCAN(mcs=100, ms=5, eps=0.1) => Clusters=35, Sil=0.6604, Noise=0.193\n",
      "[207/486] UMAP(nn=30, md=0.0, nc=32) + HDBSCAN(mcs=100, ms=20, eps=0.0) => Clusters=34, Sil=0.6862, Noise=0.197\n",
      "[208/486] UMAP(nn=30, md=0.0, nc=32) + HDBSCAN(mcs=100, ms=20, eps=0.1) => Clusters=34, Sil=0.6862, Noise=0.197\n",
      "[209/486] UMAP(nn=30, md=0.0, nc=32) + HDBSCAN(mcs=100, ms=50, eps=0.0) => Clusters=31, Sil=0.7096, Noise=0.220\n",
      "[210/486] UMAP(nn=30, md=0.0, nc=32) + HDBSCAN(mcs=100, ms=50, eps=0.1) => Clusters=31, Sil=0.7096, Noise=0.220\n",
      "[211/486] UMAP(nn=30, md=0.0, nc=32) + HDBSCAN(mcs=200, ms=5, eps=0.0) => Clusters=20, Sil=0.6761, Noise=0.298\n",
      "[212/486] UMAP(nn=30, md=0.0, nc=32) + HDBSCAN(mcs=200, ms=5, eps=0.1) => Clusters=20, Sil=0.6761, Noise=0.298\n",
      "[213/486] UMAP(nn=30, md=0.0, nc=32) + HDBSCAN(mcs=200, ms=20, eps=0.0) => Clusters=19, Sil=0.6936, Noise=0.288\n",
      "[214/486] UMAP(nn=30, md=0.0, nc=32) + HDBSCAN(mcs=200, ms=20, eps=0.1) => Clusters=19, Sil=0.6936, Noise=0.288\n",
      "[215/486] UMAP(nn=30, md=0.0, nc=32) + HDBSCAN(mcs=200, ms=50, eps=0.0) => Clusters=15, Sil=0.5394, Noise=0.185\n",
      "[216/486] UMAP(nn=30, md=0.0, nc=32) + HDBSCAN(mcs=200, ms=50, eps=0.1) => Clusters=15, Sil=0.5394, Noise=0.185\n"
     ]
    },
    {
     "name": "stderr",
     "output_type": "stream",
     "text": [
      "/root/miniconda3/lib/python3.10/site-packages/umap/umap_.py:1952: UserWarning: n_jobs value 1 overridden to 1 by setting random_state. Use no seed for parallelism.\n",
      "  warn(\n"
     ]
    },
    {
     "name": "stdout",
     "output_type": "stream",
     "text": [
      "[217/486] UMAP(nn=30, md=0.1, nc=8) + HDBSCAN(mcs=50, ms=5, eps=0.0) => Clusters=63, Sil=0.6393, Noise=0.186\n",
      "[218/486] UMAP(nn=30, md=0.1, nc=8) + HDBSCAN(mcs=50, ms=5, eps=0.1) => Clusters=63, Sil=0.6393, Noise=0.186\n",
      "[219/486] UMAP(nn=30, md=0.1, nc=8) + HDBSCAN(mcs=50, ms=20, eps=0.0) => Clusters=61, Sil=0.6852, Noise=0.204\n",
      "[220/486] UMAP(nn=30, md=0.1, nc=8) + HDBSCAN(mcs=50, ms=20, eps=0.1) => Clusters=61, Sil=0.6852, Noise=0.204\n",
      "[221/486] UMAP(nn=30, md=0.1, nc=8) + HDBSCAN(mcs=50, ms=50, eps=0.0) => Clusters=54, Sil=0.7266, Noise=0.277\n",
      "[222/486] UMAP(nn=30, md=0.1, nc=8) + HDBSCAN(mcs=50, ms=50, eps=0.1) => Clusters=54, Sil=0.7266, Noise=0.277\n",
      "[223/486] UMAP(nn=30, md=0.1, nc=8) + HDBSCAN(mcs=100, ms=5, eps=0.0) => Clusters=34, Sil=0.6217, Noise=0.218\n",
      "[224/486] UMAP(nn=30, md=0.1, nc=8) + HDBSCAN(mcs=100, ms=5, eps=0.1) => Clusters=34, Sil=0.6217, Noise=0.218\n",
      "[225/486] UMAP(nn=30, md=0.1, nc=8) + HDBSCAN(mcs=100, ms=20, eps=0.0) => Clusters=33, Sil=0.6474, Noise=0.231\n",
      "[226/486] UMAP(nn=30, md=0.1, nc=8) + HDBSCAN(mcs=100, ms=20, eps=0.1) => Clusters=33, Sil=0.6474, Noise=0.231\n",
      "[227/486] UMAP(nn=30, md=0.1, nc=8) + HDBSCAN(mcs=100, ms=50, eps=0.0) => Clusters=31, Sil=0.6830, Noise=0.274\n",
      "[228/486] UMAP(nn=30, md=0.1, nc=8) + HDBSCAN(mcs=100, ms=50, eps=0.1) => Clusters=31, Sil=0.6830, Noise=0.274\n",
      "[229/486] UMAP(nn=30, md=0.1, nc=8) + HDBSCAN(mcs=200, ms=5, eps=0.0) => Clusters=19, Sil=0.6115, Noise=0.272\n",
      "[230/486] UMAP(nn=30, md=0.1, nc=8) + HDBSCAN(mcs=200, ms=5, eps=0.1) => Clusters=19, Sil=0.6115, Noise=0.272\n",
      "[231/486] UMAP(nn=30, md=0.1, nc=8) + HDBSCAN(mcs=200, ms=20, eps=0.0) => Clusters=19, Sil=0.6352, Noise=0.292\n",
      "[232/486] UMAP(nn=30, md=0.1, nc=8) + HDBSCAN(mcs=200, ms=20, eps=0.1) => Clusters=19, Sil=0.6352, Noise=0.292\n",
      "[233/486] UMAP(nn=30, md=0.1, nc=8) + HDBSCAN(mcs=200, ms=50, eps=0.0) => Clusters=18, Sil=0.5974, Noise=0.284\n",
      "[234/486] UMAP(nn=30, md=0.1, nc=8) + HDBSCAN(mcs=200, ms=50, eps=0.1) => Clusters=18, Sil=0.5974, Noise=0.284\n"
     ]
    },
    {
     "name": "stderr",
     "output_type": "stream",
     "text": [
      "/root/miniconda3/lib/python3.10/site-packages/umap/umap_.py:1952: UserWarning: n_jobs value 1 overridden to 1 by setting random_state. Use no seed for parallelism.\n",
      "  warn(\n"
     ]
    },
    {
     "name": "stdout",
     "output_type": "stream",
     "text": [
      "[235/486] UMAP(nn=30, md=0.1, nc=16) + HDBSCAN(mcs=50, ms=5, eps=0.0) => Clusters=60, Sil=0.6320, Noise=0.175\n",
      "[236/486] UMAP(nn=30, md=0.1, nc=16) + HDBSCAN(mcs=50, ms=5, eps=0.1) => Clusters=60, Sil=0.6320, Noise=0.175\n",
      "[237/486] UMAP(nn=30, md=0.1, nc=16) + HDBSCAN(mcs=50, ms=20, eps=0.0) => Clusters=60, Sil=0.6736, Noise=0.207\n",
      "[238/486] UMAP(nn=30, md=0.1, nc=16) + HDBSCAN(mcs=50, ms=20, eps=0.1) => Clusters=60, Sil=0.6736, Noise=0.207\n",
      "[239/486] UMAP(nn=30, md=0.1, nc=16) + HDBSCAN(mcs=50, ms=50, eps=0.0) => Clusters=45, Sil=0.6853, Noise=0.235\n",
      "[240/486] UMAP(nn=30, md=0.1, nc=16) + HDBSCAN(mcs=50, ms=50, eps=0.1) => Clusters=45, Sil=0.6853, Noise=0.235\n",
      "[241/486] UMAP(nn=30, md=0.1, nc=16) + HDBSCAN(mcs=100, ms=5, eps=0.0) => Clusters=34, Sil=0.6289, Noise=0.234\n",
      "[242/486] UMAP(nn=30, md=0.1, nc=16) + HDBSCAN(mcs=100, ms=5, eps=0.1) => Clusters=34, Sil=0.6289, Noise=0.234\n",
      "[243/486] UMAP(nn=30, md=0.1, nc=16) + HDBSCAN(mcs=100, ms=20, eps=0.0) => Clusters=31, Sil=0.6336, Noise=0.202\n",
      "[244/486] UMAP(nn=30, md=0.1, nc=16) + HDBSCAN(mcs=100, ms=20, eps=0.1) => Clusters=31, Sil=0.6336, Noise=0.202\n",
      "[245/486] UMAP(nn=30, md=0.1, nc=16) + HDBSCAN(mcs=100, ms=50, eps=0.0) => Clusters=27, Sil=0.6448, Noise=0.253\n",
      "[246/486] UMAP(nn=30, md=0.1, nc=16) + HDBSCAN(mcs=100, ms=50, eps=0.1) => Clusters=27, Sil=0.6448, Noise=0.253\n",
      "[247/486] UMAP(nn=30, md=0.1, nc=16) + HDBSCAN(mcs=200, ms=5, eps=0.0) => Clusters=19, Sil=0.6179, Noise=0.283\n",
      "[248/486] UMAP(nn=30, md=0.1, nc=16) + HDBSCAN(mcs=200, ms=5, eps=0.1) => Clusters=19, Sil=0.6179, Noise=0.283\n",
      "[249/486] UMAP(nn=30, md=0.1, nc=16) + HDBSCAN(mcs=200, ms=20, eps=0.0) => Clusters=18, Sil=0.5826, Noise=0.256\n",
      "[250/486] UMAP(nn=30, md=0.1, nc=16) + HDBSCAN(mcs=200, ms=20, eps=0.1) => Clusters=18, Sil=0.5826, Noise=0.256\n",
      "[251/486] UMAP(nn=30, md=0.1, nc=16) + HDBSCAN(mcs=200, ms=50, eps=0.0) => Clusters=17, Sil=0.5885, Noise=0.294\n",
      "[252/486] UMAP(nn=30, md=0.1, nc=16) + HDBSCAN(mcs=200, ms=50, eps=0.1) => Clusters=17, Sil=0.5885, Noise=0.294\n"
     ]
    },
    {
     "name": "stderr",
     "output_type": "stream",
     "text": [
      "/root/miniconda3/lib/python3.10/site-packages/umap/umap_.py:1952: UserWarning: n_jobs value 1 overridden to 1 by setting random_state. Use no seed for parallelism.\n",
      "  warn(\n"
     ]
    },
    {
     "name": "stdout",
     "output_type": "stream",
     "text": [
      "[253/486] UMAP(nn=30, md=0.1, nc=32) + HDBSCAN(mcs=50, ms=5, eps=0.0) => Clusters=62, Sil=0.6583, Noise=0.198\n",
      "[254/486] UMAP(nn=30, md=0.1, nc=32) + HDBSCAN(mcs=50, ms=5, eps=0.1) => Clusters=62, Sil=0.6583, Noise=0.198\n",
      "[255/486] UMAP(nn=30, md=0.1, nc=32) + HDBSCAN(mcs=50, ms=20, eps=0.0) => Clusters=56, Sil=0.6686, Noise=0.190\n",
      "[256/486] UMAP(nn=30, md=0.1, nc=32) + HDBSCAN(mcs=50, ms=20, eps=0.1) => Clusters=56, Sil=0.6686, Noise=0.190\n",
      "[257/486] UMAP(nn=30, md=0.1, nc=32) + HDBSCAN(mcs=50, ms=50, eps=0.0) => Clusters=46, Sil=0.6789, Noise=0.219\n",
      "[258/486] UMAP(nn=30, md=0.1, nc=32) + HDBSCAN(mcs=50, ms=50, eps=0.1) => Clusters=46, Sil=0.6789, Noise=0.219\n",
      "[259/486] UMAP(nn=30, md=0.1, nc=32) + HDBSCAN(mcs=100, ms=5, eps=0.0) => Clusters=34, Sil=0.6223, Noise=0.211\n",
      "[260/486] UMAP(nn=30, md=0.1, nc=32) + HDBSCAN(mcs=100, ms=5, eps=0.1) => Clusters=34, Sil=0.6223, Noise=0.211\n",
      "[261/486] UMAP(nn=30, md=0.1, nc=32) + HDBSCAN(mcs=100, ms=20, eps=0.0) => Clusters=31, Sil=0.6480, Noise=0.219\n",
      "[262/486] UMAP(nn=30, md=0.1, nc=32) + HDBSCAN(mcs=100, ms=20, eps=0.1) => Clusters=31, Sil=0.6480, Noise=0.219\n",
      "[263/486] UMAP(nn=30, md=0.1, nc=32) + HDBSCAN(mcs=100, ms=50, eps=0.0) => Clusters=27, Sil=0.6657, Noise=0.262\n",
      "[264/486] UMAP(nn=30, md=0.1, nc=32) + HDBSCAN(mcs=100, ms=50, eps=0.1) => Clusters=27, Sil=0.6657, Noise=0.262\n",
      "[265/486] UMAP(nn=30, md=0.1, nc=32) + HDBSCAN(mcs=200, ms=5, eps=0.0) => Clusters=19, Sil=0.6143, Noise=0.281\n",
      "[266/486] UMAP(nn=30, md=0.1, nc=32) + HDBSCAN(mcs=200, ms=5, eps=0.1) => Clusters=19, Sil=0.6143, Noise=0.281\n",
      "[267/486] UMAP(nn=30, md=0.1, nc=32) + HDBSCAN(mcs=200, ms=20, eps=0.0) => Clusters=8, Sil=0.3032, Noise=0.076\n",
      "[268/486] UMAP(nn=30, md=0.1, nc=32) + HDBSCAN(mcs=200, ms=20, eps=0.1) => Clusters=8, Sil=0.3032, Noise=0.076\n",
      "[269/486] UMAP(nn=30, md=0.1, nc=32) + HDBSCAN(mcs=200, ms=50, eps=0.0) => Clusters=18, Sil=0.5862, Noise=0.273\n",
      "[270/486] UMAP(nn=30, md=0.1, nc=32) + HDBSCAN(mcs=200, ms=50, eps=0.1) => Clusters=18, Sil=0.5862, Noise=0.273\n"
     ]
    },
    {
     "name": "stderr",
     "output_type": "stream",
     "text": [
      "/root/miniconda3/lib/python3.10/site-packages/umap/umap_.py:1952: UserWarning: n_jobs value 1 overridden to 1 by setting random_state. Use no seed for parallelism.\n",
      "  warn(\n"
     ]
    },
    {
     "name": "stdout",
     "output_type": "stream",
     "text": [
      "[271/486] UMAP(nn=30, md=0.5, nc=8) + HDBSCAN(mcs=50, ms=5, eps=0.0) => Clusters=52, Sil=0.5189, Noise=0.265\n",
      "[272/486] UMAP(nn=30, md=0.5, nc=8) + HDBSCAN(mcs=50, ms=5, eps=0.1) => Clusters=52, Sil=0.5189, Noise=0.265\n",
      "[273/486] UMAP(nn=30, md=0.5, nc=8) + HDBSCAN(mcs=50, ms=20, eps=0.0) => Clusters=46, Sil=0.5275, Noise=0.292\n",
      "[274/486] UMAP(nn=30, md=0.5, nc=8) + HDBSCAN(mcs=50, ms=20, eps=0.1) => Clusters=46, Sil=0.5275, Noise=0.292\n",
      "[275/486] UMAP(nn=30, md=0.5, nc=8) + HDBSCAN(mcs=50, ms=50, eps=0.0) => Clusters=37, Sil=0.6094, Noise=0.407\n",
      "[276/486] UMAP(nn=30, md=0.5, nc=8) + HDBSCAN(mcs=50, ms=50, eps=0.1) => Clusters=37, Sil=0.6094, Noise=0.407\n",
      "[277/486] UMAP(nn=30, md=0.5, nc=8) + HDBSCAN(mcs=100, ms=5, eps=0.0) => Clusters=29, Sil=0.4912, Noise=0.304\n",
      "[278/486] UMAP(nn=30, md=0.5, nc=8) + HDBSCAN(mcs=100, ms=5, eps=0.1) => Clusters=29, Sil=0.4912, Noise=0.304\n",
      "[279/486] UMAP(nn=30, md=0.5, nc=8) + HDBSCAN(mcs=100, ms=20, eps=0.0) => Clusters=2, Sil=0.5593, Noise=0.000\n",
      "[280/486] UMAP(nn=30, md=0.5, nc=8) + HDBSCAN(mcs=100, ms=20, eps=0.1) => Clusters=2, Sil=0.5593, Noise=0.000\n",
      "[281/486] UMAP(nn=30, md=0.5, nc=8) + HDBSCAN(mcs=100, ms=50, eps=0.0) => Clusters=2, Sil=0.5593, Noise=0.000\n",
      "[282/486] UMAP(nn=30, md=0.5, nc=8) + HDBSCAN(mcs=100, ms=50, eps=0.1) => Clusters=2, Sil=0.5593, Noise=0.000\n",
      "[283/486] UMAP(nn=30, md=0.5, nc=8) + HDBSCAN(mcs=200, ms=5, eps=0.0) => Clusters=6, Sil=0.1590, Noise=0.066\n",
      "[284/486] UMAP(nn=30, md=0.5, nc=8) + HDBSCAN(mcs=200, ms=5, eps=0.1) => Clusters=6, Sil=0.1590, Noise=0.066\n",
      "[285/486] UMAP(nn=30, md=0.5, nc=8) + HDBSCAN(mcs=200, ms=20, eps=0.0) => Clusters=2, Sil=0.3397, Noise=0.030\n",
      "[286/486] UMAP(nn=30, md=0.5, nc=8) + HDBSCAN(mcs=200, ms=20, eps=0.1) => Clusters=2, Sil=0.3397, Noise=0.030\n",
      "[287/486] UMAP(nn=30, md=0.5, nc=8) + HDBSCAN(mcs=200, ms=50, eps=0.0) => Clusters=2, Sil=0.3426, Noise=0.052\n",
      "[288/486] UMAP(nn=30, md=0.5, nc=8) + HDBSCAN(mcs=200, ms=50, eps=0.1) => Clusters=2, Sil=0.3426, Noise=0.052\n"
     ]
    },
    {
     "name": "stderr",
     "output_type": "stream",
     "text": [
      "/root/miniconda3/lib/python3.10/site-packages/umap/umap_.py:1952: UserWarning: n_jobs value 1 overridden to 1 by setting random_state. Use no seed for parallelism.\n",
      "  warn(\n"
     ]
    },
    {
     "name": "stdout",
     "output_type": "stream",
     "text": [
      "[289/486] UMAP(nn=30, md=0.5, nc=16) + HDBSCAN(mcs=50, ms=5, eps=0.0) => Clusters=55, Sil=0.4996, Noise=0.276\n",
      "[290/486] UMAP(nn=30, md=0.5, nc=16) + HDBSCAN(mcs=50, ms=5, eps=0.1) => Clusters=55, Sil=0.4996, Noise=0.276\n",
      "[291/486] UMAP(nn=30, md=0.5, nc=16) + HDBSCAN(mcs=50, ms=20, eps=0.0) => Clusters=46, Sil=0.5329, Noise=0.315\n",
      "[292/486] UMAP(nn=30, md=0.5, nc=16) + HDBSCAN(mcs=50, ms=20, eps=0.1) => Clusters=46, Sil=0.5329, Noise=0.315\n",
      "[293/486] UMAP(nn=30, md=0.5, nc=16) + HDBSCAN(mcs=50, ms=50, eps=0.0) => Clusters=34, Sil=0.5742, Noise=0.384\n",
      "[294/486] UMAP(nn=30, md=0.5, nc=16) + HDBSCAN(mcs=50, ms=50, eps=0.1) => Clusters=34, Sil=0.5742, Noise=0.384\n",
      "[295/486] UMAP(nn=30, md=0.5, nc=16) + HDBSCAN(mcs=100, ms=5, eps=0.0) => Clusters=27, Sil=0.4796, Noise=0.311\n",
      "[296/486] UMAP(nn=30, md=0.5, nc=16) + HDBSCAN(mcs=100, ms=5, eps=0.1) => Clusters=27, Sil=0.4796, Noise=0.311\n",
      "[297/486] UMAP(nn=30, md=0.5, nc=16) + HDBSCAN(mcs=100, ms=20, eps=0.0) => Clusters=2, Sil=0.5796, Noise=0.003\n",
      "[298/486] UMAP(nn=30, md=0.5, nc=16) + HDBSCAN(mcs=100, ms=20, eps=0.1) => Clusters=2, Sil=0.5796, Noise=0.003\n",
      "[299/486] UMAP(nn=30, md=0.5, nc=16) + HDBSCAN(mcs=100, ms=50, eps=0.0) => Clusters=2, Sil=0.5796, Noise=0.003\n",
      "[300/486] UMAP(nn=30, md=0.5, nc=16) + HDBSCAN(mcs=100, ms=50, eps=0.1) => Clusters=2, Sil=0.5796, Noise=0.003\n",
      "[301/486] UMAP(nn=30, md=0.5, nc=16) + HDBSCAN(mcs=200, ms=5, eps=0.0) => Clusters=7, Sil=0.1185, Noise=0.103\n",
      "[302/486] UMAP(nn=30, md=0.5, nc=16) + HDBSCAN(mcs=200, ms=5, eps=0.1) => Clusters=7, Sil=0.1185, Noise=0.103\n",
      "[303/486] UMAP(nn=30, md=0.5, nc=16) + HDBSCAN(mcs=200, ms=20, eps=0.0) => Clusters=2, Sil=0.3217, Noise=0.039\n",
      "[304/486] UMAP(nn=30, md=0.5, nc=16) + HDBSCAN(mcs=200, ms=20, eps=0.1) => Clusters=2, Sil=0.3217, Noise=0.039\n",
      "[305/486] UMAP(nn=30, md=0.5, nc=16) + HDBSCAN(mcs=200, ms=50, eps=0.0) => Clusters=6, Sil=0.2461, Noise=0.151\n",
      "[306/486] UMAP(nn=30, md=0.5, nc=16) + HDBSCAN(mcs=200, ms=50, eps=0.1) => Clusters=6, Sil=0.2461, Noise=0.151\n"
     ]
    },
    {
     "name": "stderr",
     "output_type": "stream",
     "text": [
      "/root/miniconda3/lib/python3.10/site-packages/umap/umap_.py:1952: UserWarning: n_jobs value 1 overridden to 1 by setting random_state. Use no seed for parallelism.\n",
      "  warn(\n"
     ]
    },
    {
     "name": "stdout",
     "output_type": "stream",
     "text": [
      "[307/486] UMAP(nn=30, md=0.5, nc=32) + HDBSCAN(mcs=50, ms=5, eps=0.0) => Clusters=53, Sil=0.5103, Noise=0.258\n",
      "[308/486] UMAP(nn=30, md=0.5, nc=32) + HDBSCAN(mcs=50, ms=5, eps=0.1) => Clusters=53, Sil=0.5103, Noise=0.258\n",
      "[309/486] UMAP(nn=30, md=0.5, nc=32) + HDBSCAN(mcs=50, ms=20, eps=0.0) => Clusters=44, Sil=0.5309, Noise=0.296\n",
      "[310/486] UMAP(nn=30, md=0.5, nc=32) + HDBSCAN(mcs=50, ms=20, eps=0.1) => Clusters=44, Sil=0.5309, Noise=0.296\n",
      "[311/486] UMAP(nn=30, md=0.5, nc=32) + HDBSCAN(mcs=50, ms=50, eps=0.0) => Clusters=36, Sil=0.6140, Noise=0.398\n",
      "[312/486] UMAP(nn=30, md=0.5, nc=32) + HDBSCAN(mcs=50, ms=50, eps=0.1) => Clusters=36, Sil=0.6140, Noise=0.398\n",
      "[313/486] UMAP(nn=30, md=0.5, nc=32) + HDBSCAN(mcs=100, ms=5, eps=0.0) => Clusters=28, Sil=0.4562, Noise=0.283\n",
      "[314/486] UMAP(nn=30, md=0.5, nc=32) + HDBSCAN(mcs=100, ms=5, eps=0.1) => Clusters=28, Sil=0.4562, Noise=0.283\n",
      "[315/486] UMAP(nn=30, md=0.5, nc=32) + HDBSCAN(mcs=100, ms=20, eps=0.0) => Clusters=2, Sil=0.5324, Noise=0.000\n",
      "[316/486] UMAP(nn=30, md=0.5, nc=32) + HDBSCAN(mcs=100, ms=20, eps=0.1) => Clusters=2, Sil=0.5324, Noise=0.000\n",
      "[317/486] UMAP(nn=30, md=0.5, nc=32) + HDBSCAN(mcs=100, ms=50, eps=0.0) => Clusters=2, Sil=0.5348, Noise=0.003\n",
      "[318/486] UMAP(nn=30, md=0.5, nc=32) + HDBSCAN(mcs=100, ms=50, eps=0.1) => Clusters=2, Sil=0.5348, Noise=0.003\n",
      "[319/486] UMAP(nn=30, md=0.5, nc=32) + HDBSCAN(mcs=200, ms=5, eps=0.0) => Clusters=17, Sil=0.4420, Noise=0.323\n",
      "[320/486] UMAP(nn=30, md=0.5, nc=32) + HDBSCAN(mcs=200, ms=5, eps=0.1) => Clusters=17, Sil=0.4420, Noise=0.323\n",
      "[321/486] UMAP(nn=30, md=0.5, nc=32) + HDBSCAN(mcs=200, ms=20, eps=0.0) => Clusters=14, Sil=0.4440, Noise=0.335\n",
      "[322/486] UMAP(nn=30, md=0.5, nc=32) + HDBSCAN(mcs=200, ms=20, eps=0.1) => Clusters=14, Sil=0.4440, Noise=0.335\n",
      "[323/486] UMAP(nn=30, md=0.5, nc=32) + HDBSCAN(mcs=200, ms=50, eps=0.0) => Clusters=5, Sil=0.2628, Noise=0.153\n",
      "[324/486] UMAP(nn=30, md=0.5, nc=32) + HDBSCAN(mcs=200, ms=50, eps=0.1) => Clusters=5, Sil=0.2628, Noise=0.153\n"
     ]
    },
    {
     "name": "stderr",
     "output_type": "stream",
     "text": [
      "/root/miniconda3/lib/python3.10/site-packages/umap/umap_.py:1952: UserWarning: n_jobs value 1 overridden to 1 by setting random_state. Use no seed for parallelism.\n",
      "  warn(\n"
     ]
    },
    {
     "name": "stdout",
     "output_type": "stream",
     "text": [
      "[325/486] UMAP(nn=50, md=0.0, nc=8) + HDBSCAN(mcs=50, ms=5, eps=0.0) => Clusters=71, Sil=0.6800, Noise=0.161\n",
      "[326/486] UMAP(nn=50, md=0.0, nc=8) + HDBSCAN(mcs=50, ms=5, eps=0.1) => Clusters=70, Sil=0.6853, Noise=0.158\n",
      "[327/486] UMAP(nn=50, md=0.0, nc=8) + HDBSCAN(mcs=50, ms=20, eps=0.0) => Clusters=65, Sil=0.6988, Noise=0.176\n",
      "[328/486] UMAP(nn=50, md=0.0, nc=8) + HDBSCAN(mcs=50, ms=20, eps=0.1) => Clusters=65, Sil=0.6988, Noise=0.176\n",
      "[329/486] UMAP(nn=50, md=0.0, nc=8) + HDBSCAN(mcs=50, ms=50, eps=0.0) => Clusters=58, Sil=0.7430, Noise=0.217\n",
      "[330/486] UMAP(nn=50, md=0.0, nc=8) + HDBSCAN(mcs=50, ms=50, eps=0.1) => Clusters=58, Sil=0.7430, Noise=0.217\n",
      "[331/486] UMAP(nn=50, md=0.0, nc=8) + HDBSCAN(mcs=100, ms=5, eps=0.0) => Clusters=36, Sil=0.6652, Noise=0.197\n",
      "[332/486] UMAP(nn=50, md=0.0, nc=8) + HDBSCAN(mcs=100, ms=5, eps=0.1) => Clusters=36, Sil=0.6652, Noise=0.197\n",
      "[333/486] UMAP(nn=50, md=0.0, nc=8) + HDBSCAN(mcs=100, ms=20, eps=0.0) => Clusters=36, Sil=0.6760, Noise=0.199\n",
      "[334/486] UMAP(nn=50, md=0.0, nc=8) + HDBSCAN(mcs=100, ms=20, eps=0.1) => Clusters=36, Sil=0.6760, Noise=0.199\n",
      "[335/486] UMAP(nn=50, md=0.0, nc=8) + HDBSCAN(mcs=100, ms=50, eps=0.0) => Clusters=33, Sil=0.7120, Noise=0.220\n",
      "[336/486] UMAP(nn=50, md=0.0, nc=8) + HDBSCAN(mcs=100, ms=50, eps=0.1) => Clusters=33, Sil=0.7120, Noise=0.220\n",
      "[337/486] UMAP(nn=50, md=0.0, nc=8) + HDBSCAN(mcs=200, ms=5, eps=0.0) => Clusters=20, Sil=0.6583, Noise=0.248\n",
      "[338/486] UMAP(nn=50, md=0.0, nc=8) + HDBSCAN(mcs=200, ms=5, eps=0.1) => Clusters=20, Sil=0.6583, Noise=0.248\n",
      "[339/486] UMAP(nn=50, md=0.0, nc=8) + HDBSCAN(mcs=200, ms=20, eps=0.0) => Clusters=19, Sil=0.6042, Noise=0.202\n",
      "[340/486] UMAP(nn=50, md=0.0, nc=8) + HDBSCAN(mcs=200, ms=20, eps=0.1) => Clusters=19, Sil=0.6042, Noise=0.202\n",
      "[341/486] UMAP(nn=50, md=0.0, nc=8) + HDBSCAN(mcs=200, ms=50, eps=0.0) => Clusters=18, Sil=0.6254, Noise=0.228\n",
      "[342/486] UMAP(nn=50, md=0.0, nc=8) + HDBSCAN(mcs=200, ms=50, eps=0.1) => Clusters=18, Sil=0.6254, Noise=0.228\n"
     ]
    },
    {
     "name": "stderr",
     "output_type": "stream",
     "text": [
      "/root/miniconda3/lib/python3.10/site-packages/umap/umap_.py:1952: UserWarning: n_jobs value 1 overridden to 1 by setting random_state. Use no seed for parallelism.\n",
      "  warn(\n"
     ]
    },
    {
     "name": "stdout",
     "output_type": "stream",
     "text": [
      "[343/486] UMAP(nn=50, md=0.0, nc=16) + HDBSCAN(mcs=50, ms=5, eps=0.0) => Clusters=63, Sil=0.6745, Noise=0.162\n",
      "[344/486] UMAP(nn=50, md=0.0, nc=16) + HDBSCAN(mcs=50, ms=5, eps=0.1) => Clusters=62, Sil=0.6788, Noise=0.160\n",
      "[345/486] UMAP(nn=50, md=0.0, nc=16) + HDBSCAN(mcs=50, ms=20, eps=0.0) => Clusters=63, Sil=0.6881, Noise=0.172\n",
      "[346/486] UMAP(nn=50, md=0.0, nc=16) + HDBSCAN(mcs=50, ms=20, eps=0.1) => Clusters=63, Sil=0.6881, Noise=0.172\n",
      "[347/486] UMAP(nn=50, md=0.0, nc=16) + HDBSCAN(mcs=50, ms=50, eps=0.0) => Clusters=54, Sil=0.7398, Noise=0.195\n",
      "[348/486] UMAP(nn=50, md=0.0, nc=16) + HDBSCAN(mcs=50, ms=50, eps=0.1) => Clusters=54, Sil=0.7398, Noise=0.195\n",
      "[349/486] UMAP(nn=50, md=0.0, nc=16) + HDBSCAN(mcs=100, ms=5, eps=0.0) => Clusters=36, Sil=0.6690, Noise=0.205\n",
      "[350/486] UMAP(nn=50, md=0.0, nc=16) + HDBSCAN(mcs=100, ms=5, eps=0.1) => Clusters=36, Sil=0.6690, Noise=0.205\n",
      "[351/486] UMAP(nn=50, md=0.0, nc=16) + HDBSCAN(mcs=100, ms=20, eps=0.0) => Clusters=35, Sil=0.6893, Noise=0.211\n",
      "[352/486] UMAP(nn=50, md=0.0, nc=16) + HDBSCAN(mcs=100, ms=20, eps=0.1) => Clusters=35, Sil=0.6893, Noise=0.211\n",
      "[353/486] UMAP(nn=50, md=0.0, nc=16) + HDBSCAN(mcs=100, ms=50, eps=0.0) => Clusters=32, Sil=0.6898, Noise=0.204\n",
      "[354/486] UMAP(nn=50, md=0.0, nc=16) + HDBSCAN(mcs=100, ms=50, eps=0.1) => Clusters=32, Sil=0.6898, Noise=0.204\n",
      "[355/486] UMAP(nn=50, md=0.0, nc=16) + HDBSCAN(mcs=200, ms=5, eps=0.0) => Clusters=20, Sil=0.6649, Noise=0.251\n",
      "[356/486] UMAP(nn=50, md=0.0, nc=16) + HDBSCAN(mcs=200, ms=5, eps=0.1) => Clusters=20, Sil=0.6649, Noise=0.251\n",
      "[357/486] UMAP(nn=50, md=0.0, nc=16) + HDBSCAN(mcs=200, ms=20, eps=0.0) => Clusters=18, Sil=0.6024, Noise=0.210\n",
      "[358/486] UMAP(nn=50, md=0.0, nc=16) + HDBSCAN(mcs=200, ms=20, eps=0.1) => Clusters=18, Sil=0.6024, Noise=0.210\n",
      "[359/486] UMAP(nn=50, md=0.0, nc=16) + HDBSCAN(mcs=200, ms=50, eps=0.0) => Clusters=15, Sil=0.5146, Noise=0.161\n",
      "[360/486] UMAP(nn=50, md=0.0, nc=16) + HDBSCAN(mcs=200, ms=50, eps=0.1) => Clusters=15, Sil=0.5146, Noise=0.161\n"
     ]
    },
    {
     "name": "stderr",
     "output_type": "stream",
     "text": [
      "/root/miniconda3/lib/python3.10/site-packages/umap/umap_.py:1952: UserWarning: n_jobs value 1 overridden to 1 by setting random_state. Use no seed for parallelism.\n",
      "  warn(\n"
     ]
    },
    {
     "name": "stdout",
     "output_type": "stream",
     "text": [
      "[361/486] UMAP(nn=50, md=0.0, nc=32) + HDBSCAN(mcs=50, ms=5, eps=0.0) => Clusters=67, Sil=0.6919, Noise=0.165\n",
      "[362/486] UMAP(nn=50, md=0.0, nc=32) + HDBSCAN(mcs=50, ms=5, eps=0.1) => Clusters=66, Sil=0.6987, Noise=0.163\n",
      "[363/486] UMAP(nn=50, md=0.0, nc=32) + HDBSCAN(mcs=50, ms=20, eps=0.0) => Clusters=60, Sil=0.7117, Noise=0.155\n",
      "[364/486] UMAP(nn=50, md=0.0, nc=32) + HDBSCAN(mcs=50, ms=20, eps=0.1) => Clusters=60, Sil=0.7117, Noise=0.155\n",
      "[365/486] UMAP(nn=50, md=0.0, nc=32) + HDBSCAN(mcs=50, ms=50, eps=0.0) => Clusters=51, Sil=0.7322, Noise=0.200\n",
      "[366/486] UMAP(nn=50, md=0.0, nc=32) + HDBSCAN(mcs=50, ms=50, eps=0.1) => Clusters=51, Sil=0.7322, Noise=0.200\n",
      "[367/486] UMAP(nn=50, md=0.0, nc=32) + HDBSCAN(mcs=100, ms=5, eps=0.0) => Clusters=33, Sil=0.6518, Noise=0.188\n",
      "[368/486] UMAP(nn=50, md=0.0, nc=32) + HDBSCAN(mcs=100, ms=5, eps=0.1) => Clusters=33, Sil=0.6518, Noise=0.188\n",
      "[369/486] UMAP(nn=50, md=0.0, nc=32) + HDBSCAN(mcs=100, ms=20, eps=0.0) => Clusters=33, Sil=0.6851, Noise=0.195\n",
      "[370/486] UMAP(nn=50, md=0.0, nc=32) + HDBSCAN(mcs=100, ms=20, eps=0.1) => Clusters=33, Sil=0.6851, Noise=0.195\n",
      "[371/486] UMAP(nn=50, md=0.0, nc=32) + HDBSCAN(mcs=100, ms=50, eps=0.0) => Clusters=31, Sil=0.7008, Noise=0.222\n",
      "[372/486] UMAP(nn=50, md=0.0, nc=32) + HDBSCAN(mcs=100, ms=50, eps=0.1) => Clusters=31, Sil=0.7008, Noise=0.222\n",
      "[373/486] UMAP(nn=50, md=0.0, nc=32) + HDBSCAN(mcs=200, ms=5, eps=0.0) => Clusters=19, Sil=0.6612, Noise=0.262\n",
      "[374/486] UMAP(nn=50, md=0.0, nc=32) + HDBSCAN(mcs=200, ms=5, eps=0.1) => Clusters=19, Sil=0.6612, Noise=0.262\n",
      "[375/486] UMAP(nn=50, md=0.0, nc=32) + HDBSCAN(mcs=200, ms=20, eps=0.0) => Clusters=18, Sil=0.6055, Noise=0.212\n",
      "[376/486] UMAP(nn=50, md=0.0, nc=32) + HDBSCAN(mcs=200, ms=20, eps=0.1) => Clusters=18, Sil=0.6055, Noise=0.212\n",
      "[377/486] UMAP(nn=50, md=0.0, nc=32) + HDBSCAN(mcs=200, ms=50, eps=0.0) => Clusters=18, Sil=0.6436, Noise=0.248\n",
      "[378/486] UMAP(nn=50, md=0.0, nc=32) + HDBSCAN(mcs=200, ms=50, eps=0.1) => Clusters=18, Sil=0.6436, Noise=0.248\n"
     ]
    },
    {
     "name": "stderr",
     "output_type": "stream",
     "text": [
      "/root/miniconda3/lib/python3.10/site-packages/umap/umap_.py:1952: UserWarning: n_jobs value 1 overridden to 1 by setting random_state. Use no seed for parallelism.\n",
      "  warn(\n"
     ]
    },
    {
     "name": "stdout",
     "output_type": "stream",
     "text": [
      "[379/486] UMAP(nn=50, md=0.1, nc=8) + HDBSCAN(mcs=50, ms=5, eps=0.0) => Clusters=64, Sil=0.6340, Noise=0.174\n",
      "[380/486] UMAP(nn=50, md=0.1, nc=8) + HDBSCAN(mcs=50, ms=5, eps=0.1) => Clusters=64, Sil=0.6340, Noise=0.174\n",
      "[381/486] UMAP(nn=50, md=0.1, nc=8) + HDBSCAN(mcs=50, ms=20, eps=0.0) => Clusters=56, Sil=0.6546, Noise=0.176\n",
      "[382/486] UMAP(nn=50, md=0.1, nc=8) + HDBSCAN(mcs=50, ms=20, eps=0.1) => Clusters=56, Sil=0.6546, Noise=0.176\n",
      "[383/486] UMAP(nn=50, md=0.1, nc=8) + HDBSCAN(mcs=50, ms=50, eps=0.0) => Clusters=50, Sil=0.6911, Noise=0.213\n",
      "[384/486] UMAP(nn=50, md=0.1, nc=8) + HDBSCAN(mcs=50, ms=50, eps=0.1) => Clusters=50, Sil=0.6911, Noise=0.213\n",
      "[385/486] UMAP(nn=50, md=0.1, nc=8) + HDBSCAN(mcs=100, ms=5, eps=0.0) => Clusters=32, Sil=0.5970, Noise=0.191\n",
      "[386/486] UMAP(nn=50, md=0.1, nc=8) + HDBSCAN(mcs=100, ms=5, eps=0.1) => Clusters=32, Sil=0.5970, Noise=0.191\n",
      "[387/486] UMAP(nn=50, md=0.1, nc=8) + HDBSCAN(mcs=100, ms=20, eps=0.0) => Clusters=31, Sil=0.6203, Noise=0.197\n",
      "[388/486] UMAP(nn=50, md=0.1, nc=8) + HDBSCAN(mcs=100, ms=20, eps=0.1) => Clusters=31, Sil=0.6203, Noise=0.197\n",
      "[389/486] UMAP(nn=50, md=0.1, nc=8) + HDBSCAN(mcs=100, ms=50, eps=0.0) => Clusters=26, Sil=0.6337, Noise=0.230\n",
      "[390/486] UMAP(nn=50, md=0.1, nc=8) + HDBSCAN(mcs=100, ms=50, eps=0.1) => Clusters=26, Sil=0.6337, Noise=0.230\n",
      "[391/486] UMAP(nn=50, md=0.1, nc=8) + HDBSCAN(mcs=200, ms=5, eps=0.0) => Clusters=20, Sil=0.6265, Noise=0.277\n",
      "[392/486] UMAP(nn=50, md=0.1, nc=8) + HDBSCAN(mcs=200, ms=5, eps=0.1) => Clusters=20, Sil=0.6265, Noise=0.277\n",
      "[393/486] UMAP(nn=50, md=0.1, nc=8) + HDBSCAN(mcs=200, ms=20, eps=0.0) => Clusters=18, Sil=0.5855, Noise=0.264\n",
      "[394/486] UMAP(nn=50, md=0.1, nc=8) + HDBSCAN(mcs=200, ms=20, eps=0.1) => Clusters=18, Sil=0.5855, Noise=0.264\n",
      "[395/486] UMAP(nn=50, md=0.1, nc=8) + HDBSCAN(mcs=200, ms=50, eps=0.0) => Clusters=18, Sil=0.5943, Noise=0.264\n",
      "[396/486] UMAP(nn=50, md=0.1, nc=8) + HDBSCAN(mcs=200, ms=50, eps=0.1) => Clusters=18, Sil=0.5943, Noise=0.264\n"
     ]
    },
    {
     "name": "stderr",
     "output_type": "stream",
     "text": [
      "/root/miniconda3/lib/python3.10/site-packages/umap/umap_.py:1952: UserWarning: n_jobs value 1 overridden to 1 by setting random_state. Use no seed for parallelism.\n",
      "  warn(\n"
     ]
    },
    {
     "name": "stdout",
     "output_type": "stream",
     "text": [
      "[397/486] UMAP(nn=50, md=0.1, nc=16) + HDBSCAN(mcs=50, ms=5, eps=0.0) => Clusters=55, Sil=0.6411, Noise=0.159\n",
      "[398/486] UMAP(nn=50, md=0.1, nc=16) + HDBSCAN(mcs=50, ms=5, eps=0.1) => Clusters=55, Sil=0.6411, Noise=0.159\n",
      "[399/486] UMAP(nn=50, md=0.1, nc=16) + HDBSCAN(mcs=50, ms=20, eps=0.0) => Clusters=55, Sil=0.6638, Noise=0.177\n",
      "[400/486] UMAP(nn=50, md=0.1, nc=16) + HDBSCAN(mcs=50, ms=20, eps=0.1) => Clusters=55, Sil=0.6638, Noise=0.177\n",
      "[401/486] UMAP(nn=50, md=0.1, nc=16) + HDBSCAN(mcs=50, ms=50, eps=0.0) => Clusters=47, Sil=0.6827, Noise=0.186\n",
      "[402/486] UMAP(nn=50, md=0.1, nc=16) + HDBSCAN(mcs=50, ms=50, eps=0.1) => Clusters=47, Sil=0.6827, Noise=0.186\n",
      "[403/486] UMAP(nn=50, md=0.1, nc=16) + HDBSCAN(mcs=100, ms=5, eps=0.0) => Clusters=34, Sil=0.6126, Noise=0.214\n",
      "[404/486] UMAP(nn=50, md=0.1, nc=16) + HDBSCAN(mcs=100, ms=5, eps=0.1) => Clusters=34, Sil=0.6126, Noise=0.214\n",
      "[405/486] UMAP(nn=50, md=0.1, nc=16) + HDBSCAN(mcs=100, ms=20, eps=0.0) => Clusters=31, Sil=0.6488, Noise=0.226\n",
      "[406/486] UMAP(nn=50, md=0.1, nc=16) + HDBSCAN(mcs=100, ms=20, eps=0.1) => Clusters=31, Sil=0.6488, Noise=0.226\n",
      "[407/486] UMAP(nn=50, md=0.1, nc=16) + HDBSCAN(mcs=100, ms=50, eps=0.0) => Clusters=29, Sil=0.6676, Noise=0.242\n",
      "[408/486] UMAP(nn=50, md=0.1, nc=16) + HDBSCAN(mcs=100, ms=50, eps=0.1) => Clusters=29, Sil=0.6676, Noise=0.242\n",
      "[409/486] UMAP(nn=50, md=0.1, nc=16) + HDBSCAN(mcs=200, ms=5, eps=0.0) => Clusters=20, Sil=0.6369, Noise=0.275\n",
      "[410/486] UMAP(nn=50, md=0.1, nc=16) + HDBSCAN(mcs=200, ms=5, eps=0.1) => Clusters=20, Sil=0.6369, Noise=0.275\n",
      "[411/486] UMAP(nn=50, md=0.1, nc=16) + HDBSCAN(mcs=200, ms=20, eps=0.0) => Clusters=8, Sil=0.3016, Noise=0.058\n",
      "[412/486] UMAP(nn=50, md=0.1, nc=16) + HDBSCAN(mcs=200, ms=20, eps=0.1) => Clusters=8, Sil=0.3016, Noise=0.058\n",
      "[413/486] UMAP(nn=50, md=0.1, nc=16) + HDBSCAN(mcs=200, ms=50, eps=0.0) => Clusters=8, Sil=0.3055, Noise=0.064\n",
      "[414/486] UMAP(nn=50, md=0.1, nc=16) + HDBSCAN(mcs=200, ms=50, eps=0.1) => Clusters=8, Sil=0.3055, Noise=0.064\n"
     ]
    },
    {
     "name": "stderr",
     "output_type": "stream",
     "text": [
      "/root/miniconda3/lib/python3.10/site-packages/umap/umap_.py:1952: UserWarning: n_jobs value 1 overridden to 1 by setting random_state. Use no seed for parallelism.\n",
      "  warn(\n"
     ]
    },
    {
     "name": "stdout",
     "output_type": "stream",
     "text": [
      "[415/486] UMAP(nn=50, md=0.1, nc=32) + HDBSCAN(mcs=50, ms=5, eps=0.0) => Clusters=61, Sil=0.6464, Noise=0.180\n",
      "[416/486] UMAP(nn=50, md=0.1, nc=32) + HDBSCAN(mcs=50, ms=5, eps=0.1) => Clusters=61, Sil=0.6464, Noise=0.180\n",
      "[417/486] UMAP(nn=50, md=0.1, nc=32) + HDBSCAN(mcs=50, ms=20, eps=0.0) => Clusters=55, Sil=0.6819, Noise=0.195\n",
      "[418/486] UMAP(nn=50, md=0.1, nc=32) + HDBSCAN(mcs=50, ms=20, eps=0.1) => Clusters=55, Sil=0.6819, Noise=0.195\n",
      "[419/486] UMAP(nn=50, md=0.1, nc=32) + HDBSCAN(mcs=50, ms=50, eps=0.0) => Clusters=45, Sil=0.6760, Noise=0.205\n",
      "[420/486] UMAP(nn=50, md=0.1, nc=32) + HDBSCAN(mcs=50, ms=50, eps=0.1) => Clusters=45, Sil=0.6760, Noise=0.205\n",
      "[421/486] UMAP(nn=50, md=0.1, nc=32) + HDBSCAN(mcs=100, ms=5, eps=0.0) => Clusters=32, Sil=0.6105, Noise=0.196\n",
      "[422/486] UMAP(nn=50, md=0.1, nc=32) + HDBSCAN(mcs=100, ms=5, eps=0.1) => Clusters=32, Sil=0.6105, Noise=0.196\n",
      "[423/486] UMAP(nn=50, md=0.1, nc=32) + HDBSCAN(mcs=100, ms=20, eps=0.0) => Clusters=30, Sil=0.6417, Noise=0.198\n",
      "[424/486] UMAP(nn=50, md=0.1, nc=32) + HDBSCAN(mcs=100, ms=20, eps=0.1) => Clusters=30, Sil=0.6417, Noise=0.198\n",
      "[425/486] UMAP(nn=50, md=0.1, nc=32) + HDBSCAN(mcs=100, ms=50, eps=0.0) => Clusters=27, Sil=0.6565, Noise=0.248\n",
      "[426/486] UMAP(nn=50, md=0.1, nc=32) + HDBSCAN(mcs=100, ms=50, eps=0.1) => Clusters=27, Sil=0.6565, Noise=0.248\n",
      "[427/486] UMAP(nn=50, md=0.1, nc=32) + HDBSCAN(mcs=200, ms=5, eps=0.0) => Clusters=20, Sil=0.6353, Noise=0.270\n",
      "[428/486] UMAP(nn=50, md=0.1, nc=32) + HDBSCAN(mcs=200, ms=5, eps=0.1) => Clusters=20, Sil=0.6353, Noise=0.270\n",
      "[429/486] UMAP(nn=50, md=0.1, nc=32) + HDBSCAN(mcs=200, ms=20, eps=0.0) => Clusters=18, Sil=0.5994, Noise=0.259\n",
      "[430/486] UMAP(nn=50, md=0.1, nc=32) + HDBSCAN(mcs=200, ms=20, eps=0.1) => Clusters=18, Sil=0.5994, Noise=0.259\n",
      "[431/486] UMAP(nn=50, md=0.1, nc=32) + HDBSCAN(mcs=200, ms=50, eps=0.0) => Clusters=18, Sil=0.5729, Noise=0.250\n",
      "[432/486] UMAP(nn=50, md=0.1, nc=32) + HDBSCAN(mcs=200, ms=50, eps=0.1) => Clusters=18, Sil=0.5729, Noise=0.250\n"
     ]
    },
    {
     "name": "stderr",
     "output_type": "stream",
     "text": [
      "/root/miniconda3/lib/python3.10/site-packages/umap/umap_.py:1952: UserWarning: n_jobs value 1 overridden to 1 by setting random_state. Use no seed for parallelism.\n",
      "  warn(\n"
     ]
    },
    {
     "name": "stdout",
     "output_type": "stream",
     "text": [
      "[433/486] UMAP(nn=50, md=0.5, nc=8) + HDBSCAN(mcs=50, ms=5, eps=0.0) => Clusters=54, Sil=0.4958, Noise=0.251\n",
      "[434/486] UMAP(nn=50, md=0.5, nc=8) + HDBSCAN(mcs=50, ms=5, eps=0.1) => Clusters=54, Sil=0.4958, Noise=0.251\n",
      "[435/486] UMAP(nn=50, md=0.5, nc=8) + HDBSCAN(mcs=50, ms=20, eps=0.0) => Clusters=45, Sil=0.5121, Noise=0.267\n",
      "[436/486] UMAP(nn=50, md=0.5, nc=8) + HDBSCAN(mcs=50, ms=20, eps=0.1) => Clusters=45, Sil=0.5121, Noise=0.267\n",
      "[437/486] UMAP(nn=50, md=0.5, nc=8) + HDBSCAN(mcs=50, ms=50, eps=0.0) => Clusters=36, Sil=0.5570, Noise=0.349\n",
      "[438/486] UMAP(nn=50, md=0.5, nc=8) + HDBSCAN(mcs=50, ms=50, eps=0.1) => Clusters=36, Sil=0.5570, Noise=0.349\n",
      "[439/486] UMAP(nn=50, md=0.5, nc=8) + HDBSCAN(mcs=100, ms=5, eps=0.0) => Clusters=2, Sil=0.5732, Noise=0.000\n",
      "[440/486] UMAP(nn=50, md=0.5, nc=8) + HDBSCAN(mcs=100, ms=5, eps=0.1) => Clusters=2, Sil=0.5732, Noise=0.000\n",
      "[441/486] UMAP(nn=50, md=0.5, nc=8) + HDBSCAN(mcs=100, ms=20, eps=0.0) => Clusters=2, Sil=0.5732, Noise=0.000\n",
      "[442/486] UMAP(nn=50, md=0.5, nc=8) + HDBSCAN(mcs=100, ms=20, eps=0.1) => Clusters=2, Sil=0.5732, Noise=0.000\n",
      "[443/486] UMAP(nn=50, md=0.5, nc=8) + HDBSCAN(mcs=100, ms=50, eps=0.0) => Clusters=3, Sil=0.2869, Noise=0.000\n",
      "[444/486] UMAP(nn=50, md=0.5, nc=8) + HDBSCAN(mcs=100, ms=50, eps=0.1) => Clusters=3, Sil=0.2869, Noise=0.000\n",
      "[445/486] UMAP(nn=50, md=0.5, nc=8) + HDBSCAN(mcs=200, ms=5, eps=0.0) => Clusters=16, Sil=0.4292, Noise=0.302\n",
      "[446/486] UMAP(nn=50, md=0.5, nc=8) + HDBSCAN(mcs=200, ms=5, eps=0.1) => Clusters=16, Sil=0.4292, Noise=0.302\n",
      "[447/486] UMAP(nn=50, md=0.5, nc=8) + HDBSCAN(mcs=200, ms=20, eps=0.0) => Clusters=17, Sil=0.4801, Noise=0.361\n",
      "[448/486] UMAP(nn=50, md=0.5, nc=8) + HDBSCAN(mcs=200, ms=20, eps=0.1) => Clusters=17, Sil=0.4801, Noise=0.361\n",
      "[449/486] UMAP(nn=50, md=0.5, nc=8) + HDBSCAN(mcs=200, ms=50, eps=0.0) => Clusters=4, Sil=0.2357, Noise=0.085\n",
      "[450/486] UMAP(nn=50, md=0.5, nc=8) + HDBSCAN(mcs=200, ms=50, eps=0.1) => Clusters=4, Sil=0.2357, Noise=0.085\n"
     ]
    },
    {
     "name": "stderr",
     "output_type": "stream",
     "text": [
      "/root/miniconda3/lib/python3.10/site-packages/umap/umap_.py:1952: UserWarning: n_jobs value 1 overridden to 1 by setting random_state. Use no seed for parallelism.\n",
      "  warn(\n"
     ]
    },
    {
     "name": "stdout",
     "output_type": "stream",
     "text": [
      "[451/486] UMAP(nn=50, md=0.5, nc=16) + HDBSCAN(mcs=50, ms=5, eps=0.0) => Clusters=50, Sil=0.5030, Noise=0.239\n",
      "[452/486] UMAP(nn=50, md=0.5, nc=16) + HDBSCAN(mcs=50, ms=5, eps=0.1) => Clusters=50, Sil=0.5030, Noise=0.239\n",
      "[453/486] UMAP(nn=50, md=0.5, nc=16) + HDBSCAN(mcs=50, ms=20, eps=0.0) => Clusters=2, Sil=0.5659, Noise=0.000\n",
      "[454/486] UMAP(nn=50, md=0.5, nc=16) + HDBSCAN(mcs=50, ms=20, eps=0.1) => Clusters=2, Sil=0.5659, Noise=0.000\n",
      "[455/486] UMAP(nn=50, md=0.5, nc=16) + HDBSCAN(mcs=50, ms=50, eps=0.0) => Clusters=2, Sil=0.5659, Noise=0.000\n",
      "[456/486] UMAP(nn=50, md=0.5, nc=16) + HDBSCAN(mcs=50, ms=50, eps=0.1) => Clusters=2, Sil=0.5659, Noise=0.000\n",
      "[457/486] UMAP(nn=50, md=0.5, nc=16) + HDBSCAN(mcs=100, ms=5, eps=0.0) => Clusters=2, Sil=0.5659, Noise=0.000\n",
      "[458/486] UMAP(nn=50, md=0.5, nc=16) + HDBSCAN(mcs=100, ms=5, eps=0.1) => Clusters=2, Sil=0.5659, Noise=0.000\n",
      "[459/486] UMAP(nn=50, md=0.5, nc=16) + HDBSCAN(mcs=100, ms=20, eps=0.0) => Clusters=2, Sil=0.5659, Noise=0.000\n",
      "[460/486] UMAP(nn=50, md=0.5, nc=16) + HDBSCAN(mcs=100, ms=20, eps=0.1) => Clusters=2, Sil=0.5659, Noise=0.000\n",
      "[461/486] UMAP(nn=50, md=0.5, nc=16) + HDBSCAN(mcs=100, ms=50, eps=0.0) => Clusters=2, Sil=0.5659, Noise=0.000\n",
      "[462/486] UMAP(nn=50, md=0.5, nc=16) + HDBSCAN(mcs=100, ms=50, eps=0.1) => Clusters=2, Sil=0.5659, Noise=0.000\n",
      "[463/486] UMAP(nn=50, md=0.5, nc=16) + HDBSCAN(mcs=200, ms=5, eps=0.0) => Clusters=16, Sil=0.4365, Noise=0.301\n",
      "[464/486] UMAP(nn=50, md=0.5, nc=16) + HDBSCAN(mcs=200, ms=5, eps=0.1) => Clusters=16, Sil=0.4365, Noise=0.301\n",
      "[465/486] UMAP(nn=50, md=0.5, nc=16) + HDBSCAN(mcs=200, ms=20, eps=0.0) => Clusters=16, Sil=0.5011, Noise=0.387\n",
      "[466/486] UMAP(nn=50, md=0.5, nc=16) + HDBSCAN(mcs=200, ms=20, eps=0.1) => Clusters=16, Sil=0.5011, Noise=0.387\n",
      "[467/486] UMAP(nn=50, md=0.5, nc=16) + HDBSCAN(mcs=200, ms=50, eps=0.0) => Clusters=17, Sil=0.5558, Noise=0.465\n",
      "[468/486] UMAP(nn=50, md=0.5, nc=16) + HDBSCAN(mcs=200, ms=50, eps=0.1) => Clusters=17, Sil=0.5558, Noise=0.465\n"
     ]
    },
    {
     "name": "stderr",
     "output_type": "stream",
     "text": [
      "/root/miniconda3/lib/python3.10/site-packages/umap/umap_.py:1952: UserWarning: n_jobs value 1 overridden to 1 by setting random_state. Use no seed for parallelism.\n",
      "  warn(\n"
     ]
    },
    {
     "name": "stdout",
     "output_type": "stream",
     "text": [
      "[469/486] UMAP(nn=50, md=0.5, nc=32) + HDBSCAN(mcs=50, ms=5, eps=0.0) => Clusters=56, Sil=0.5045, Noise=0.264\n",
      "[470/486] UMAP(nn=50, md=0.5, nc=32) + HDBSCAN(mcs=50, ms=5, eps=0.1) => Clusters=56, Sil=0.5045, Noise=0.264\n",
      "[471/486] UMAP(nn=50, md=0.5, nc=32) + HDBSCAN(mcs=50, ms=20, eps=0.0) => Clusters=45, Sil=0.5112, Noise=0.289\n",
      "[472/486] UMAP(nn=50, md=0.5, nc=32) + HDBSCAN(mcs=50, ms=20, eps=0.1) => Clusters=45, Sil=0.5112, Noise=0.289\n",
      "[473/486] UMAP(nn=50, md=0.5, nc=32) + HDBSCAN(mcs=50, ms=50, eps=0.0) => Clusters=2, Sil=0.5420, Noise=0.000\n",
      "[474/486] UMAP(nn=50, md=0.5, nc=32) + HDBSCAN(mcs=50, ms=50, eps=0.1) => Clusters=2, Sil=0.5420, Noise=0.000\n",
      "[475/486] UMAP(nn=50, md=0.5, nc=32) + HDBSCAN(mcs=100, ms=5, eps=0.0) => Clusters=2, Sil=0.5420, Noise=0.000\n",
      "[476/486] UMAP(nn=50, md=0.5, nc=32) + HDBSCAN(mcs=100, ms=5, eps=0.1) => Clusters=2, Sil=0.5420, Noise=0.000\n",
      "[477/486] UMAP(nn=50, md=0.5, nc=32) + HDBSCAN(mcs=100, ms=20, eps=0.0) => Clusters=3, Sil=0.3276, Noise=0.007\n",
      "[478/486] UMAP(nn=50, md=0.5, nc=32) + HDBSCAN(mcs=100, ms=20, eps=0.1) => Clusters=3, Sil=0.3276, Noise=0.007\n",
      "[479/486] UMAP(nn=50, md=0.5, nc=32) + HDBSCAN(mcs=100, ms=50, eps=0.0) => Clusters=2, Sil=0.5420, Noise=0.000\n",
      "[480/486] UMAP(nn=50, md=0.5, nc=32) + HDBSCAN(mcs=100, ms=50, eps=0.1) => Clusters=2, Sil=0.5420, Noise=0.000\n",
      "[481/486] UMAP(nn=50, md=0.5, nc=32) + HDBSCAN(mcs=200, ms=5, eps=0.0) => Clusters=16, Sil=0.4474, Noise=0.326\n",
      "[482/486] UMAP(nn=50, md=0.5, nc=32) + HDBSCAN(mcs=200, ms=5, eps=0.1) => Clusters=16, Sil=0.4474, Noise=0.326\n",
      "[483/486] UMAP(nn=50, md=0.5, nc=32) + HDBSCAN(mcs=200, ms=20, eps=0.0) => Clusters=2, Sil=0.3206, Noise=0.018\n",
      "[484/486] UMAP(nn=50, md=0.5, nc=32) + HDBSCAN(mcs=200, ms=20, eps=0.1) => Clusters=2, Sil=0.3206, Noise=0.018\n",
      "[485/486] UMAP(nn=50, md=0.5, nc=32) + HDBSCAN(mcs=200, ms=50, eps=0.0) => Clusters=16, Sil=0.5267, Noise=0.438\n",
      "[486/486] UMAP(nn=50, md=0.5, nc=32) + HDBSCAN(mcs=200, ms=50, eps=0.1) => Clusters=16, Sil=0.5267, Noise=0.438\n",
      "\n",
      "Top 5 参数组合：\n",
      "     nn   md  nc umap_metric  mcs  ms  eps hdb_metric  Clusters  Silhouette  \\\n",
      "298  30  0.5  16   euclidean  100  50  0.0  euclidean         2    0.579642   \n",
      "299  30  0.5  16   euclidean  100  50  0.1  euclidean         2    0.579642   \n",
      "296  30  0.5  16   euclidean  100  20  0.0  euclidean         2    0.579642   \n",
      "297  30  0.5  16   euclidean  100  20  0.1  euclidean         2    0.579642   \n",
      "440  50  0.5   8   euclidean  100  20  0.0  euclidean         2    0.573151   \n",
      "\n",
      "     NoiseRatio     Score  TimeSec  \n",
      "298    0.002548  0.577094   10.895  \n",
      "299    0.002548  0.577094   10.824  \n",
      "296    0.002548  0.577094    9.492  \n",
      "297    0.002548  0.577094    9.385  \n",
      "440    0.000000  0.573151    9.124  \n",
      "\n",
      "完整结果已保存到 umap_hdbscan_results_yelp.csv\n"
     ]
    }
   ],
   "source": [
    "import pickle\n",
    "import numpy as np\n",
    "import pandas as pd\n",
    "from sklearn.preprocessing import StandardScaler\n",
    "from sklearn.metrics import silhouette_score\n",
    "import hdbscan\n",
    "from itertools import product\n",
    "from time import time\n",
    "import umap\n",
    "import warnings\n",
    "warnings.filterwarnings(\"ignore\", category=FutureWarning)\n",
    "\n",
    "# ================== 1. 读取数据 ==================\n",
    "with open(\"data/yelp/handled/pca64_itm_emb_np.pkl\", \"rb\") as f:  # ✅ 改成 yelp\n",
    "    item_emb = pickle.load(f)  # shape: [n_items, dim]\n",
    "X = np.asarray(item_emb)\n",
    "X = StandardScaler().fit_transform(X)\n",
    "\n",
    "print(f\"Yelp 数据形状: {X.shape}\")\n",
    "\n",
    "# ================== 2. 参数网格 ==================\n",
    "umap_grid = {\n",
    "    \"n_neighbors\": [10, 30, 50],      # 样本数多，邻居范围适当加大\n",
    "    \"min_dist\": [0.0, 0.1, 0.5],      # 控制稀疏度\n",
    "    \"n_components\": [8, 16, 32],      # 更高维度也尝试\n",
    "    \"metric\": [\"euclidean\"]\n",
    "}\n",
    "\n",
    "hdb_grid = {\n",
    "    \"min_cluster_size\": [50, 100, 200],   # Yelp 数据量大，簇规模调大\n",
    "    \"min_samples\": [5, 20, 50],\n",
    "    \"cluster_selection_epsilon\": [0.0, 0.1],\n",
    "    \"metric\": [\"euclidean\"]\n",
    "}\n",
    "\n",
    "umap_combos = list(product(*umap_grid.values()))\n",
    "hdb_combos = list(product(*hdb_grid.values()))\n",
    "total = len(umap_combos) * len(hdb_combos)\n",
    "\n",
    "rows = []\n",
    "idx = 0\n",
    "\n",
    "# ================== 3. 遍历组合 ==================\n",
    "for u_params in umap_combos:\n",
    "    nn, md, nc, met_r = u_params\n",
    "\n",
    "    reducer = umap.UMAP(\n",
    "        n_neighbors=nn, min_dist=md, n_components=nc,\n",
    "        metric=met_r, random_state=42\n",
    "    )\n",
    "    Z = reducer.fit_transform(X)   # 🔹 UMAP 降维\n",
    "\n",
    "    for h_params in hdb_combos:\n",
    "        mcs, ms, eps, met_c = h_params\n",
    "        idx += 1\n",
    "        t0 = time()\n",
    "\n",
    "        clusterer = hdbscan.HDBSCAN(\n",
    "            min_cluster_size=mcs, min_samples=ms,\n",
    "            cluster_selection_epsilon=eps, metric=met_c\n",
    "        )\n",
    "        labels = clusterer.fit_predict(Z)\n",
    "\n",
    "        # ---- 评估指标 ----\n",
    "        noise_ratio = float(np.mean(labels == -1))\n",
    "        mask = labels != -1\n",
    "        if mask.sum() > 1 and len(np.unique(labels[mask])) >= 2:\n",
    "            sil = float(silhouette_score(Z[mask], labels[mask]))\n",
    "        else:\n",
    "            sil = np.nan\n",
    "\n",
    "        n_clusters = len(set(labels)) - (1 if -1 in labels else 0)\n",
    "\n",
    "        print(f\"[{idx}/{total}] UMAP(nn={nn}, md={md}, nc={nc}) + \"\n",
    "              f\"HDBSCAN(mcs={mcs}, ms={ms}, eps={eps}) \"\n",
    "              f\"=> Clusters={n_clusters}, Sil={sil:.4f}, Noise={noise_ratio:.3f}\")\n",
    "\n",
    "        rows.append({\n",
    "            \"nn\": nn, \"md\": md, \"nc\": nc, \"umap_metric\": met_r,\n",
    "            \"mcs\": mcs, \"ms\": ms, \"eps\": eps, \"hdb_metric\": met_c,\n",
    "            \"Clusters\": n_clusters,\n",
    "            \"Silhouette\": sil,\n",
    "            \"NoiseRatio\": noise_ratio,\n",
    "            \"Score\": (sil if not np.isnan(sil) else -1) - noise_ratio,\n",
    "            \"TimeSec\": round(time() - t0, 3)\n",
    "        })\n",
    "\n",
    "# ================== 4. 保存 & 查看结果 ==================\n",
    "df = pd.DataFrame(rows)\n",
    "df_sorted = df.sort_values(by=\"Score\", ascending=False)\n",
    "\n",
    "print(\"\\nTop 5 参数组合：\")\n",
    "print(df_sorted.head(5))\n",
    "\n",
    "# ✅ 保存到 yelp 结果文件\n",
    "df_sorted.to_csv(\"umap_hdbscan_results_yelp.csv\", index=False)\n",
    "print(\"\\n完整结果已保存到 umap_hdbscan_results_yelp.csv\")"
   ]
  },
  {
   "cell_type": "code",
   "execution_count": 1,
   "id": "478bbd50-26b7-4dac-a0d6-2075b8b45d0f",
   "metadata": {},
   "outputs": [
    {
     "name": "stdout",
     "output_type": "stream",
     "text": [
      "===== 符合条件的 Top 10 参数组合 =====\n",
      "    nn   md  nc umap_metric  mcs  ms  eps hdb_metric  Clusters  Silhouette  \\\n",
      "77  50  0.1  16   euclidean   50  50  0.1  euclidean        47    0.682731   \n",
      "76  50  0.1  16   euclidean   50  50  0.0  euclidean        47    0.682731   \n",
      "81  50  0.0   8   euclidean  100  50  0.1  euclidean        33    0.711992   \n",
      "80  50  0.0   8   euclidean  100  50  0.0  euclidean        33    0.711992   \n",
      "83  50  0.0  32   euclidean  100  20  0.1  euclidean        33    0.685103   \n",
      "82  50  0.0  32   euclidean  100  20  0.0  euclidean        33    0.685103   \n",
      "87  30  0.0  32   euclidean  100  20  0.1  euclidean        34    0.686189   \n",
      "86  30  0.0  32   euclidean  100  20  0.0  euclidean        34    0.686189   \n",
      "89  30  0.0  32   euclidean  100  50  0.0  euclidean        31    0.709584   \n",
      "88  30  0.0  32   euclidean  100  50  0.1  euclidean        31    0.709584   \n",
      "\n",
      "    NoiseRatio     Score  TimeSec  \n",
      "77    0.185891  0.496840    6.604  \n",
      "76    0.185891  0.496840    6.608  \n",
      "81    0.220065  0.491927    4.980  \n",
      "80    0.220065  0.491927    5.310  \n",
      "83    0.195028  0.490076    6.022  \n",
      "82    0.195028  0.490076    6.172  \n",
      "87    0.196521  0.489668    7.201  \n",
      "86    0.196521  0.489668    7.108  \n",
      "89    0.220416  0.489167    8.189  \n",
      "88    0.220416  0.489167    8.230  \n",
      "\n",
      "筛选后的结果已保存到 umap_hdbscan_filtered.csv\n"
     ]
    }
   ],
   "source": [
    "import pandas as pd\n",
    "\n",
    "# 读取结果\n",
    "df = pd.read_csv(\"umap_hdbscan_results_yelp.csv\")\n",
    "\n",
    "# 筛选条件：簇数适中 + 噪声不过大\n",
    "df_filtered = df[\n",
    "    (df[\"Clusters\"] >= 10) & \n",
    "    (df[\"Clusters\"] <= 50) & \n",
    "    (df[\"NoiseRatio\"] <= 0.3)\n",
    "]\n",
    "\n",
    "# 按 Score 排序，取 Top 10\n",
    "df_top = df_filtered.sort_values(by=\"Score\", ascending=False).head(10)\n",
    "\n",
    "print(\"===== 符合条件的 Top 10 参数组合 =====\")\n",
    "print(df_top)\n",
    "\n",
    "# 保存筛选结果\n",
    "df_top.to_csv(\"umap_hdbscan_filtered.csv\", index=False)\n",
    "print(\"\\n筛选后的结果已保存到 umap_hdbscan_filtered.csv\")\n"
   ]
  },
  {
   "cell_type": "code",
   "execution_count": 2,
   "id": "7ce6e523-201e-41a7-b35a-b452472185b3",
   "metadata": {},
   "outputs": [],
   "source": [
    "import pickle\n",
    "import numpy as np\n",
    "import pandas as pd\n",
    "from sklearn.preprocessing import StandardScaler\n",
    "from sklearn.metrics import silhouette_score\n",
    "import hdbscan\n",
    "from itertools import product\n",
    "from time import time\n",
    "import umap\n",
    "import warnings"
   ]
  },
  {
   "cell_type": "code",
   "execution_count": 2,
   "id": "819a0d96-04d2-468e-b141-fa4fab311897",
   "metadata": {},
   "outputs": [
    {
     "ename": "AttributeError",
     "evalue": "module 'umap' has no attribute 'UMAP'",
     "output_type": "error",
     "traceback": [
      "\u001b[0;31m---------------------------------------------------------------------------\u001b[0m",
      "\u001b[0;31mAttributeError\u001b[0m                            Traceback (most recent call last)",
      "Cell \u001b[0;32mIn[2], line 21\u001b[0m\n\u001b[1;32m     18\u001b[0m X_scaled \u001b[38;5;241m=\u001b[39m StandardScaler()\u001b[38;5;241m.\u001b[39mfit_transform(X_pca)\n\u001b[1;32m     20\u001b[0m \u001b[38;5;66;03m# 3. UMAP降维（适配Yelp的高维语义结构，n_neighbors增大至50）\u001b[39;00m\n\u001b[0;32m---> 21\u001b[0m best_reducer \u001b[38;5;241m=\u001b[39m \u001b[43mumap\u001b[49m\u001b[38;5;241;43m.\u001b[39;49m\u001b[43mUMAP\u001b[49m(\u001b[38;5;241m*\u001b[39m\u001b[38;5;241m*\u001b[39mbest_umap_params, random_state\u001b[38;5;241m=\u001b[39m\u001b[38;5;241m42\u001b[39m)\n\u001b[1;32m     22\u001b[0m Z_best \u001b[38;5;241m=\u001b[39m best_reducer\u001b[38;5;241m.\u001b[39mfit_transform(X_scaled)\n\u001b[1;32m     24\u001b[0m \u001b[38;5;66;03m# 4. HDBSCAN聚类（关键修改：增大min_cluster_size和min_samples，减少噪声点）\u001b[39;00m\n",
      "\u001b[0;31mAttributeError\u001b[0m: module 'umap' has no attribute 'UMAP'"
     ]
    }
   ],
   "source": [
    "# 1. Yelp最优参数（从Top10中选择综合评分最高的组合，如第81行：nn=50, nc=8, mcs=100, ms=50, eps=0.1）\n",
    "best_umap_params = {\n",
    "    \"n_neighbors\": 30,        # Yelp最优nn=50（原Fashion=20）\n",
    "    \"min_dist\": 0.0,          # Yelp最优md=0.0（原Fashion=0.0）\n",
    "    \"n_components\": 8,        # Yelp最优nc=8（原Fashion=8，可保持一致）\n",
    "    \"metric\": \"euclidean\"     # 距离度量与Yelp一致\n",
    "}\n",
    "best_hdb_params = {\n",
    "    \"min_cluster_size\": 50,  # Yelp最优mcs=100（原Fashion=50）\n",
    "    \"min_samples\": 50,        # Yelp最优ms=50（原Fashion=10，显著增大）\n",
    "    \"cluster_selection_epsilon\": 0.0,  # Yelp最优eps=0.1（原Fashion=0.0）\n",
    "    \"metric\": \"euclidean\"     # 距离度量与Yelp一致\n",
    "}\n",
    "\n",
    "# 2. 加载Yelp的PCA64嵌入（路径需修改为Yelp数据集路径）\n",
    "# X_pca = pickle.load(open(\"../data/fashion/handled/pca64_itm_emb_np.pkl\", \"rb\"))\n",
    "X_pca = pickle.load(open(\"../data/yelp/handled/pca64_itm_emb_np.pkl\", \"rb\"))  # 改为Yelp路径\n",
    "X_scaled = StandardScaler().fit_transform(X_pca)\n",
    "\n",
    "# 3. UMAP降维（适配Yelp的高维语义结构，n_neighbors增大至50）\n",
    "best_reducer = umap.UMAP(**best_umap_params, random_state=42)\n",
    "Z_best = best_reducer.fit_transform(X_scaled)\n",
    "\n",
    "# 4. HDBSCAN聚类（关键修改：增大min_cluster_size和min_samples，减少噪声点）\n",
    "best_clusterer = hdbscan.HDBSCAN(**best_hdb_params)\n",
    "labels_best = best_clusterer.fit_predict(Z_best)\n",
    "probs_best = best_clusterer.probabilities_\n",
    "\n",
    "# 5. 验证Yelp聚类结果（调整噪声比例阈值，Yelp允许更高噪声）\n",
    "noise_ratio = np.mean(labels_best == -1)\n",
    "print(f\"Yelp聚类：簇数量={len(set(labels_best))-(1 if -1 in labels_best else 0)}, \"\n",
    "      f\"噪声比例={noise_ratio:.3f}（Yelp场景可放宽至≤0.3）\")"
   ]
  },
  {
   "cell_type": "code",
   "execution_count": null,
   "id": "a1f063ad-959e-4db7-8f6e-57c2b6c1de0a",
   "metadata": {},
   "outputs": [],
   "source": [
    "import umap.umap_ as umap"
   ]
  },
  {
   "cell_type": "code",
   "execution_count": 2,
   "id": "73cd4238-de3c-4b60-afd4-a8aad92684d8",
   "metadata": {},
   "outputs": [
    {
     "ename": "AttributeError",
     "evalue": "module 'umap' has no attribute 'UMAP'",
     "output_type": "error",
     "traceback": [
      "\u001b[0;31m---------------------------------------------------------------------------\u001b[0m",
      "\u001b[0;31mAttributeError\u001b[0m                            Traceback (most recent call last)",
      "Cell \u001b[0;32mIn[2], line 8\u001b[0m\n\u001b[1;32m      6\u001b[0m \u001b[38;5;66;03m# Yelp最优UMAP降维参数（从Top10选最优：nn=50, md=0.0, nc=8，适配Yelp稀疏语义）\u001b[39;00m\n\u001b[1;32m      7\u001b[0m best_umap_params \u001b[38;5;241m=\u001b[39m {\u001b[38;5;124m\"\u001b[39m\u001b[38;5;124mn_neighbors\u001b[39m\u001b[38;5;124m\"\u001b[39m:\u001b[38;5;241m50\u001b[39m, \u001b[38;5;124m\"\u001b[39m\u001b[38;5;124mmin_dist\u001b[39m\u001b[38;5;124m\"\u001b[39m:\u001b[38;5;241m0.0\u001b[39m, \u001b[38;5;124m\"\u001b[39m\u001b[38;5;124mn_components\u001b[39m\u001b[38;5;124m\"\u001b[39m:\u001b[38;5;241m8\u001b[39m, \u001b[38;5;124m\"\u001b[39m\u001b[38;5;124mmetric\u001b[39m\u001b[38;5;124m\"\u001b[39m:\u001b[38;5;124m\"\u001b[39m\u001b[38;5;124meuclidean\u001b[39m\u001b[38;5;124m\"\u001b[39m}  \u001b[38;5;66;03m# 改Yelp参数\u001b[39;00m\n\u001b[0;32m----> 8\u001b[0m best_reducer \u001b[38;5;241m=\u001b[39m \u001b[43mumap\u001b[49m\u001b[38;5;241;43m.\u001b[39;49m\u001b[43mUMAP\u001b[49m(\u001b[38;5;241m*\u001b[39m\u001b[38;5;241m*\u001b[39mbest_umap_params, random_state\u001b[38;5;241m=\u001b[39m\u001b[38;5;241m42\u001b[39m)\n\u001b[1;32m      9\u001b[0m Z_best \u001b[38;5;241m=\u001b[39m best_reducer\u001b[38;5;241m.\u001b[39mfit_transform(X_scaled)\n\u001b[1;32m     11\u001b[0m \u001b[38;5;66;03m# Yelp最优HDBSCAN聚类参数（从Top10选最优：mcs=100, ms=50, eps=0.1，减少Yelp噪声）\u001b[39;00m\n",
      "\u001b[0;31mAttributeError\u001b[0m: module 'umap' has no attribute 'UMAP'"
     ]
    }
   ],
   "source": [
    "# ================== 1. （Yelp专属）用Yelp最优参数生成聚类结果 ==================\n",
    "# 加载Yelp的PCA64嵌入（路径替换为Yelp数据集路径）\n",
    "X_pca = pickle.load(open(\"../data/yelp/handled/pca64_itm_emb_np.pkl\", \"rb\"))  # 改Yelp路径\n",
    "X_scaled = StandardScaler().fit_transform(X_pca)  # 标准化（Yelp数据维度更高，标准化更关键）\n",
    "\n",
    "# Yelp最优UMAP降维参数（从Top10选最优：nn=50, md=0.0, nc=8，适配Yelp稀疏语义）\n",
    "best_umap_params = {\"n_neighbors\":50, \"min_dist\":0.0, \"n_components\":8, \"metric\":\"euclidean\"}  # 改Yelp参数\n",
    "best_reducer = umap.UMAP(**best_umap_params, random_state=42)\n",
    "Z_best = best_reducer.fit_transform(X_scaled)\n",
    "\n",
    "# Yelp最优HDBSCAN聚类参数（从Top10选最优：mcs=100, ms=50, eps=0.1，减少Yelp噪声）\n",
    "best_hdb_params = {\"min_cluster_size\":100, \"min_samples\":50, \"cluster_selection_epsilon\":0.1, \"metric\":\"euclidean\"}  # 改Yelp参数\n",
    "best_clusterer = hdbscan.HDBSCAN(**best_hdb_params)\n",
    "labels_best = best_clusterer.fit_predict(Z_best)  # 簇标签（含噪声-1）\n",
    "probs_best = best_clusterer.probabilities_        # 核心点隶属度（Yelp噪声多，需用此过滤）\n",
    "\n",
    "\n",
    "# ================== 2. （Yelp适配）计算加权簇中心 cluster_centers_final ==================\n",
    "# 步骤1：筛选有效簇（排除噪声标签-1，Yelp噪声比例更高，需严格过滤）\n",
    "valid_cluster_ids = np.unique(labels_best[labels_best != -1])  # 所有非噪声的簇ID\n",
    "cluster_centers_final = []\n",
    "\n",
    "# 步骤2：对每个有效簇，按核心隶属度加权计算中心（Yelp物品多，增加“最小核心点数量”过滤小簇）\n",
    "min_core_points = 30  # Yelp专属：过滤小于30个核心点的小簇（避免簇中心不稳定）\n",
    "for cid in valid_cluster_ids:\n",
    "    cluster_mask = labels_best == cid  # 该簇的物品掩码\n",
    "    cluster_core_mask = cluster_mask & (probs_best > 0)  # 仅保留核心点（Yelp非核心点噪声多）\n",
    "    cluster_embeddings = X_pca[cluster_core_mask]  # 用核心点嵌入计算中心（更稳定）\n",
    "    cluster_probs = probs_best[cluster_core_mask]  # 核心点的隶属度（权重）\n",
    "    \n",
    "    # 过滤过小的簇（Yelp避免小簇干扰）\n",
    "    if len(cluster_embeddings) < min_core_points:\n",
    "        continue\n",
    "    \n",
    "    # 加权平均计算簇中心（与Fashion逻辑一致，但用核心点优化）\n",
    "    weighted_center = np.average(cluster_embeddings, axis=0, weights=cluster_probs)\n",
    "    cluster_centers_final.append(weighted_center)\n",
    "\n",
    "# 转为numpy数组（Yelp簇数量通常比Fashion多，如33簇左右）\n",
    "cluster_centers_final = np.array(cluster_centers_final)\n",
    "print(f\"Yelp有效簇数量：{len(cluster_centers_final)}（已过滤小簇和噪声）\")\n",
    "\n",
    "\n",
    "# ================== 3. （Yelp优化）计算模糊隶属度向量 fuzzy_U_final ==================\n",
    "def compute_fuzzy_membership_yelp(item_emb, cluster_labels, cluster_probs, cluster_centers, fuzzy_m=2.5):\n",
    "    \"\"\"Yelp专属模糊隶属度计算：调整模糊指数、增强噪声点鲁棒性\"\"\"\n",
    "    N = len(item_emb)\n",
    "    C = len(cluster_centers)\n",
    "    fuzzy_U = np.zeros((N, C))  # N=Yelp物品数（远大于Fashion的4722），C=有效簇数\n",
    "    \n",
    "    # 1. 处理非噪声点（Yelp核心点比例低，用更高模糊指数保留多簇关联）\n",
    "    non_noise_mask = cluster_labels != -1\n",
    "    valid_cluster_ids = np.unique(cluster_labels[non_noise_mask])\n",
    "    for i in np.where(non_noise_mask)[0]:\n",
    "        cid = cluster_labels[i]\n",
    "        # 匹配簇ID到索引（Yelp簇ID可能不连续，需精准映射）\n",
    "        cid_idx = np.where(valid_cluster_ids == cid)[0]\n",
    "        if len(cid_idx) == 0:  # 排除已过滤的小簇\n",
    "            continue\n",
    "        cid_idx = cid_idx[0]\n",
    "        \n",
    "        main_prob = cluster_probs[i]\n",
    "        # 计算到各簇中心的距离（Yelp用L2距离，增加距离衰减系数）\n",
    "        dists = np.linalg.norm(item_emb[i] - cluster_centers, axis=1)\n",
    "        dists[dists < 1e-8] = 1e-8  # 避免除零\n",
    "        inv_dists = 1 / (dists ** 1.2)  # Yelp专属：距离衰减更明显，减少远簇干扰\n",
    "        \n",
    "        # 分配隶属度并归一化\n",
    "        fuzzy_U[i, cid_idx] = main_prob * inv_dists[cid_idx]\n",
    "        for k in range(C):\n",
    "            if k != cid_idx:\n",
    "                fuzzy_U[i, k] = (1 - main_prob) * inv_dists[k]\n",
    "        fuzzy_U[i] /= np.sum(fuzzy_U[i])\n",
    "    \n",
    "    # 2. 处理噪声点（Yelp噪声多，用更平滑的模糊分配）\n",
    "    noise_mask = cluster_labels == -1\n",
    "    for i in np.where(noise_mask)[0]:\n",
    "        dists = np.linalg.norm(item_emb[i] - cluster_centers, axis=1)\n",
    "        dists[dists < 1e-8] = 1e-8\n",
    "        inv_dists = 1 / (dists ** 1.2)\n",
    "        # 模糊指数从2→2.5（Yelp专属：减少噪声点对单一簇的依赖）\n",
    "        fuzzy_U[i] = inv_dists ** (2 / (fuzzy_m - 1))\n",
    "        fuzzy_U[i] /= np.sum(fuzzy_U[i])\n",
    "    \n",
    "    return fuzzy_U\n",
    "\n",
    "# 调用Yelp专属函数计算模糊隶属度（用PCA64嵌入，匹配双视图建模）\n",
    "fuzzy_U_final = compute_fuzzy_membership_yelp(\n",
    "    item_emb=X_pca,\n",
    "    cluster_labels=labels_best,\n",
    "    cluster_probs=probs_best,\n",
    "    cluster_centers=cluster_centers_final,\n",
    "    fuzzy_m=1.8  # Yelp专属模糊指数（比Fashion高，增强鲁棒性）\n",
    ")\n",
    "\n",
    "\n",
    "# ================== 4. （Yelp路径）保存文件 ==================\n",
    "save_dir = \"../data/yelp/handled/\"  # 改Yelp保存路径\n",
    "# 保存Yelp聚类结果（文件名与Fashion一致，便于后续模型调用）\n",
    "pickle.dump(labels_best, open(f\"{save_dir}/hdbscan_best_labels.pkl\", \"wb\"))\n",
    "pickle.dump(cluster_centers_final, open(f\"{save_dir}/hdbscan_cluster_centers.pkl\", \"wb\"))\n",
    "pickle.dump(fuzzy_U_final, open(f\"{save_dir}/hdbscan_fuzzy_U.pkl\", \"wb\"))\n",
    "pickle.dump(probs_best, open(f\"{save_dir}/hdbscan_core_probs.pkl\", \"wb\"))\n",
    "\n",
    "# 额外输出Yelp关键指标（验证结果合理性）\n",
    "noise_ratio = np.mean(labels_best == -1)\n",
    "print(f\"Yelp聚类结果验证：\")\n",
    "print(f\"- 噪声比例：{noise_ratio:.3f}（Yelp允许≤0.3，符合要求）\")\n",
    "print(f\"- 模糊隶属度矩阵形状：{fuzzy_U_final.shape}（物品数×簇数，匹配Yelp数据规模）\")\n",
    "print(f\"Yelp所有文件保存成功！\")"
   ]
  },
  {
   "cell_type": "code",
   "execution_count": 6,
   "id": "1dfbe526-ac5c-46a0-a9b4-57ce64b9de13",
   "metadata": {},
   "outputs": [
    {
     "name": "stdout",
     "output_type": "stream",
     "text": [
      "cluster_centers_final 形状: (56, 64)\n",
      "fuzzy_U_final 形状: (11383, 56)\n",
      "labels_best 形状: (11383,)\n"
     ]
    }
   ],
   "source": [
    "# 验证变量是否存在且格式正确\n",
    "print(f\"cluster_centers_final 形状: {cluster_centers_final.shape}\")  # 预期 (27, 64)（27个簇，64维嵌入）\n",
    "print(f\"fuzzy_U_final 形状: {fuzzy_U_final.shape}\")                  # 预期 (4722, 27)（4722个物品，27个簇）\n",
    "print(f\"labels_best 形状: {labels_best.shape}\")                      # 预期 (4722,)"
   ]
  },
  {
   "cell_type": "code",
   "execution_count": null,
   "id": "edcd78e2-4227-4778-8033-9bab12e5424e",
   "metadata": {},
   "outputs": [],
   "source": []
  }
 ],
 "metadata": {
  "kernelspec": {
   "display_name": "Python 3 (ipykernel)",
   "language": "python",
   "name": "python3"
  },
  "language_info": {
   "codemirror_mode": {
    "name": "ipython",
    "version": 3
   },
   "file_extension": ".py",
   "mimetype": "text/x-python",
   "name": "python",
   "nbconvert_exporter": "python",
   "pygments_lexer": "ipython3",
   "version": "3.10.8"
  }
 },
 "nbformat": 4,
 "nbformat_minor": 5
}
